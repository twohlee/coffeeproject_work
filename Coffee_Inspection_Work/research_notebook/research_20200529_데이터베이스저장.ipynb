{
 "cells": [
  {
   "cell_type": "code",
   "execution_count": 57,
   "metadata": {},
   "outputs": [],
   "source": [
    "import io\n",
    "import pymongo\n",
    "import os\n",
    "import gridfs \n",
    "from PIL import Image\n",
    "import numpy as np\n",
    "import glob\n",
    "import matplotlib.pyplot as plt"
   ]
  },
  {
   "cell_type": "code",
   "execution_count": 58,
   "metadata": {},
   "outputs": [],
   "source": [
    "conn = pymongo.MongoClient('127.0.0.1', 27017)"
   ]
  },
  {
   "cell_type": "code",
   "execution_count": 71,
   "metadata": {
    "tags": [
     "outputPrepend"
    ]
   },
   "outputs": [],
   "source": [
    "categories = ['normal', 'broken', 'black']\n",
    "for idx, category in enumerate(categories):\n",
    "    path = '../Final_data/' + category\n",
    "    db = conn.get_database(category)\n",
    "    files = os.listdir(path)\n",
    "    fs = gridfs.GridFS(db, collection = category)\n",
    "    \n",
    "    for f in files:\n",
    "        fp = open(path + '/' + f, 'rb')\n",
    "        data = fp.read()\n",
    "        stored = fs.put(data, filename = f)\n"
   ]
  },
  {
   "cell_type": "code",
   "execution_count": 91,
   "metadata": {},
   "outputs": [
    {
     "output_type": "stream",
     "name": "stdout",
     "text": "63889\n"
    }
   ],
   "source": [
    "categories = ['normal', 'broken', 'black']\n",
    "\n",
    "data = list()\n",
    "for idx, category in enumerate(categories):\n",
    "    db = conn.get_database(category)\n",
    "    fs = gridfs.GridFS(db, collection = category)\n",
    "    tmp = list()\n",
    "    for f in fs.find():\n",
    "        image = Image.open(io.BytesIO(f.read()))\n",
    "        tmp.append(image)\n",
    "    data = data + tmp\n",
    "print(len(data))"
   ]
  },
  {
   "cell_type": "code",
   "execution_count": 92,
   "metadata": {},
   "outputs": [
    {
     "output_type": "execute_result",
     "data": {
      "text/plain": "D2588>,\n <PIL.PngImagePlugin.PngImageFile image mode=RGB size=64x64 at 0x1D7BBAD2088>,\n <PIL.PngImagePlugin.PngImageFile image mode=RGB size=64x64 at 0x1D7BBAD2108>,\n <PIL.PngImagePlugin.PngImageFile image mode=RGB size=64x64 at 0x1D7BB7E1F88>,\n <PIL.PngImagePlugin.PngImageFile image mode=RGB size=64x64 at 0x1D7BBBBA808>,\n <PIL.PngImagePlugin.PngImageFile image mode=RGB size=64x64 at 0x1D7BBAD2BC8>,\n <PIL.PngImagePlugin.PngImageFile image mode=RGB size=64x64 at 0x1D7BBBBF8C8>,\n <PIL.PngImagePlugin.PngImageFile image mode=RGB size=64x64 at 0x1D7BBAD22C8>,\n <PIL.PngImagePlugin.PngImageFile image mode=RGB size=64x64 at 0x1D7BB7E1CC8>,\n <PIL.PngImagePlugin.PngImageFile image mode=RGB size=64x64 at 0x1D7BBAD29C8>,\n <PIL.PngImagePlugin.PngImageFile image mode=RGB size=64x64 at 0x1D7BBBBA648>,\n <PIL.PngImagePlugin.PngImageFile image mode=RGB size=64x64 at 0x1D7BEA03448>,\n <PIL.PngImagePlugin.PngImageFile image mode=RGB size=64x64 at 0x1D7BB2B7588>,\n <PIL.PngImagePlugin.PngImageFile image mode=RGB size=64x64 at 0x1D7BB9ACE88>,\n <PIL.PngImagePlugin.PngImageFile image mode=RGB size=64x64 at 0x1D7BEA03708>,\n <PIL.PngImagePlugin.PngImageFile image mode=RGB size=64x64 at 0x1D7BB9AC2C8>,\n <PIL.PngImagePlugin.PngImageFile image mode=RGB size=64x64 at 0x1D7BB9ACAC8>,\n <PIL.PngImagePlugin.PngImageFile image mode=RGB size=64x64 at 0x1D7BB9AC3C8>,\n <PIL.PngImagePlugin.PngImageFile image mode=RGB size=64x64 at 0x1D7BB9AC4C8>,\n <PIL.PngImagePlugin.PngImageFile image mode=RGB size=64x64 at 0x1D7BEA036C8>,\n <PIL.PngImagePlugin.PngImageFile image mode=RGB size=64x64 at 0x1D7B89424C8>,\n <PIL.PngImagePlugin.PngImageFile image mode=RGB size=64x64 at 0x1D7BBB5BD88>,\n <PIL.PngImagePlugin.PngImageFile image mode=RGB size=64x64 at 0x1D7BBB5BA08>,\n <PIL.PngImagePlugin.PngImageFile image mode=RGB size=64x64 at 0x1D7BA4AB408>,\n <PIL.PngImagePlugin.PngImageFile image mode=RGB size=64x64 at 0x1D7BBB5BC88>,\n <PIL.PngImagePlugin.PngImageFile image mode=RGB size=64x64 at 0x1D7BB960688>,\n <PIL.PngImagePlugin.PngImageFile image mode=RGB size=64x64 at 0x1D7BBB5B108>,\n <PIL.PngImagePlugin.PngImageFile image mode=RGB size=64x64 at 0x1D7BBBBFA88>,\n <PIL.PngImagePlugin.PngImageFile image mode=RGB size=64x64 at 0x1D7BBB5B2C8>,\n <PIL.PngImagePlugin.PngImageFile image mode=RGB size=64x64 at 0x1D7BBB5BB08>,\n <PIL.PngImagePlugin.PngImageFile image mode=RGB size=64x64 at 0x1D7B9D6A6C8>,\n <PIL.PngImagePlugin.PngImageFile image mode=RGB size=64x64 at 0x1D7BBB5B348>,\n <PIL.PngImagePlugin.PngImageFile image mode=RGB size=64x64 at 0x1D7B9D6A808>,\n <PIL.PngImagePlugin.PngImageFile image mode=RGB size=64x64 at 0x1D7BB576108>,\n <PIL.PngImagePlugin.PngImageFile image mode=RGB size=64x64 at 0x1D7BB576288>,\n <PIL.PngImagePlugin.PngImageFile image mode=RGB size=64x64 at 0x1D7BBB5B208>,\n <PIL.PngImagePlugin.PngImageFile image mode=RGB size=64x64 at 0x1D7B9D6A188>,\n <PIL.PngImagePlugin.PngImageFile image mode=RGB size=64x64 at 0x1D7BB576F88>,\n <PIL.PngImagePlugin.PngImageFile image mode=RGB size=64x64 at 0x1D7BB6FA408>,\n <PIL.PngImagePlugin.PngImageFile image mode=RGB size=64x64 at 0x1D7BB6FAC48>,\n <PIL.PngImagePlugin.PngImageFile image mode=RGB size=64x64 at 0x1D7BB576C08>,\n <PIL.PngImagePlugin.PngImageFile image mode=RGB size=64x64 at 0x1D7BB5765C8>,\n <PIL.PngImagePlugin.PngImageFile image mode=RGB size=64x64 at 0x1D7BB9B0408>,\n <PIL.PngImagePlugin.PngImageFile image mode=RGB size=64x64 at 0x1D7BB6FA588>,\n <PIL.PngImagePlugin.PngImageFile image mode=RGB size=64x64 at 0x1D7B9D6A588>,\n <PIL.PngImagePlugin.PngImageFile image mode=RGB size=64x64 at 0x1D7BB6FA108>,\n <PIL.PngImagePlugin.PngImageFile image mode=RGB size=64x64 at 0x1D7BB6FA708>,\n <PIL.PngImagePlugin.PngImageFile image mode=RGB size=64x64 at 0x1D7BB6FAD08>,\n <PIL.PngImagePlugin.PngImageFile image mode=RGB size=64x64 at 0x1D7BB6FAB08>,\n <PIL.PngImagePlugin.PngImageFile image mode=RGB size=64x64 at 0x1D7BB76C388>,\n <PIL.PngImagePlugin.PngImageFile image mode=RGB size=64x64 at 0x1D7BB959A48>,\n <PIL.PngImagePlugin.PngImageFile image mode=RGB size=64x64 at 0x1D7BBAEABC8>,\n <PIL.PngImagePlugin.PngImageFile image mode=RGB size=64x64 at 0x1D7BBAEA208>,\n <PIL.PngImagePlugin.PngImageFile image mode=RGB size=64x64 at 0x1D7BB959948>,\n <PIL.PngImagePlugin.PngImageFile image mode=RGB size=64x64 at 0x1D7BB6FA748>,\n <PIL.PngImagePlugin.PngImageFile image mode=RGB size=64x64 at 0x1D7BB576748>,\n <PIL.PngImagePlugin.PngImageFile image mode=RGB size=64x64 at 0x1D7BBDC3648>,\n <PIL.PngImagePlugin.PngImageFile image mode=RGB size=64x64 at 0x1D7BB6FA0C8>,\n <PIL.PngImagePlugin.PngImageFile image mode=RGB size=64x64 at 0x1D7BE9E1588>,\n <PIL.PngImagePlugin.PngImageFile image mode=RGB size=64x64 at 0x1D7BB96A948>,\n <PIL.PngImagePlugin.PngImageFile image mode=RGB size=64x64 at 0x1D7BB96ADC8>,\n <PIL.PngImagePlugin.PngImageFile image mode=RGB size=64x64 at 0x1D7BB96AF48>,\n <PIL.PngImagePlugin.PngImageFile image mode=RGB size=64x64 at 0x1D7BB96A448>,\n <PIL.PngImagePlugin.PngImageFile image mode=RGB size=64x64 at 0x1D7BB96ABC8>,\n <PIL.PngImagePlugin.PngImageFile image mode=RGB size=64x64 at 0x1D7BB96A7C8>,\n <PIL.PngImagePlugin.PngImageFile image mode=RGB size=64x64 at 0x1D7BB96A9C8>,\n <PIL.PngImagePlugin.PngImageFile image mode=RGB size=64x64 at 0x1D7BB5B2A48>,\n <PIL.PngImagePlugin.PngImageFile image mode=RGB size=64x64 at 0x1D7BB5B2F48>,\n <PIL.PngImagePlugin.PngImageFile image mode=RGB size=64x64 at 0x1D7BB5B2B88>,\n <PIL.PngImagePlugin.PngImageFile image mode=RGB size=64x64 at 0x1D7BB5B2C08>,\n <PIL.PngImagePlugin.PngImageFile image mode=RGB size=64x64 at 0x1D7BB96AC08>,\n <PIL.PngImagePlugin.PngImageFile image mode=RGB size=64x64 at 0x1D7BB964AC8>,\n <PIL.PngImagePlugin.PngImageFile image mode=RGB size=64x64 at 0x1D7BB97DC48>,\n <PIL.PngImagePlugin.PngImageFile image mode=RGB size=64x64 at 0x1D7BB5B2608>,\n <PIL.PngImagePlugin.PngImageFile image mode=RGB size=64x64 at 0x1D7BB5BBD08>,\n <PIL.PngImagePlugin.PngImageFile image mode=RGB size=64x64 at 0x1D7BB97DA88>,\n <PIL.PngImagePlugin.PngImageFile image mode=RGB size=64x64 at 0x1D7BB97D888>,\n <PIL.PngImagePlugin.PngImageFile image mode=RGB size=64x64 at 0x1D7BB964E08>,\n <PIL.PngImagePlugin.PngImageFile image mode=RGB size=64x64 at 0x1D7BB97DA48>,\n <PIL.PngImagePlugin.PngImageFile image mode=RGB size=64x64 at 0x1D7BB6C8108>,\n <PIL.PngImagePlugin.PngImageFile image mode=RGB size=64x64 at 0x1D7BB6C8C08>,\n <PIL.PngImagePlugin.PngImageFile image mode=RGB size=64x64 at 0x1D7BB964F48>,\n <PIL.PngImagePlugin.PngImageFile image mode=RGB size=64x64 at 0x1D7BB6C8148>,\n <PIL.PngImagePlugin.PngImageFile image mode=RGB size=64x64 at 0x1D7BB6C8D48>,\n <PIL.PngImagePlugin.PngImageFile image mode=RGB size=64x64 at 0x1D7BB964D88>,\n <PIL.PngImagePlugin.PngImageFile image mode=RGB size=64x64 at 0x1D7BB6C83C8>,\n <PIL.PngImagePlugin.PngImageFile image mode=RGB size=64x64 at 0x1D7BB9F5A08>,\n <PIL.PngImagePlugin.PngImageFile image mode=RGB size=64x64 at 0x1D7BB9F57C8>,\n <PIL.PngImagePlugin.PngImageFile image mode=RGB size=64x64 at 0x1D7BB841B88>,\n <PIL.PngImagePlugin.PngImageFile image mode=RGB size=64x64 at 0x1D7BB9F5108>,\n <PIL.PngImagePlugin.PngImageFile image mode=RGB size=64x64 at 0x1D7BB841E08>,\n <PIL.PngImagePlugin.PngImageFile image mode=RGB size=64x64 at 0x1D7BB6C8388>,\n <PIL.PngImagePlugin.PngImageFile image mode=RGB size=64x64 at 0x1D7BB9F5288>,\n <PIL.PngImagePlugin.PngImageFile image mode=RGB size=64x64 at 0x1D7BB964148>,\n <PIL.PngImagePlugin.PngImageFile image mode=RGB size=64x64 at 0x1D7BB841A48>,\n <PIL.PngImagePlugin.PngImageFile image mode=RGB size=64x64 at 0x1D7BB8414C8>,\n <PIL.PngImagePlugin.PngImageFile image mode=RGB size=64x64 at 0x1D7BB5B2E88>,\n <PIL.PngImagePlugin.PngImageFile image mode=RGB size=64x64 at 0x1D7BB841508>,\n <PIL.PngImagePlugin.PngImageFile image mode=RGB size=64x64 at 0x1D7BB841548>,\n <PIL.PngImagePlugin.PngImageFile image mode=RGB size=64x64 at 0x1D7BB841EC8>,\n <PIL.PngImagePlugin.PngImageFile image mode=RGB size=64x64 at 0x1D7C9C22FC8>,\n <PIL.PngImagePlugin.PngImageFile image mode=RGB size=64x64 at 0x1D7C9C0A648>,\n <PIL.PngImagePlugin.PngImageFile image mode=RGB size=64x64 at 0x1D7C9BBEA48>,\n <PIL.PngImagePlugin.PngImageFile image mode=RGB size=64x64 at 0x1D7C9BBED88>,\n <PIL.PngImagePlugin.PngImageFile image mode=RGB size=64x64 at 0x1D7C9C0A248>,\n <PIL.PngImagePlugin.PngImageFile image mode=RGB size=64x64 at 0x1D7C9C0AB08>,\n <PIL.PngImagePlugin.PngImageFile image mode=RGB size=64x64 at 0x1D7C9C22F88>,\n <PIL.PngImagePlugin.PngImageFile image mode=RGB size=64x64 at 0x1D7C9BBE688>,\n <PIL.PngImagePlugin.PngImageFile image mode=RGB size=64x64 at 0x1D7C9C18B08>,\n <PIL.PngImagePlugin.PngImageFile image mode=RGB size=64x64 at 0x1D7C9C18AC8>,\n <PIL.PngImagePlugin.PngImageFile image mode=RGB size=64x64 at 0x1D7C9C18FC8>,\n <PIL.PngImagePlugin.PngImageFile image mode=RGB size=64x64 at 0x1D7C9C0AFC8>,\n <PIL.PngImagePlugin.PngImageFile image mode=RGB size=64x64 at 0x1D7C9C182C8>,\n <PIL.PngImagePlugin.PngImageFile image mode=RGB size=64x64 at 0x1D7C9B99888>,\n <PIL.PngImagePlugin.PngImageFile image mode=RGB size=64x64 at 0x1D7C9C188C8>,\n <PIL.PngImagePlugin.PngImageFile image mode=RGB size=64x64 at 0x1D7C9C40C48>,\n <PIL.PngImagePlugin.PngImageFile image mode=RGB size=64x64 at 0x1D7C9C40E08>,\n <PIL.PngImagePlugin.PngImageFile image mode=RGB size=64x64 at 0x1D7C9C40E88>,\n <PIL.PngImagePlugin.PngImageFile image mode=RGB size=64x64 at 0x1D7C9C186C8>,\n <PIL.PngImagePlugin.PngImageFile image mode=RGB size=64x64 at 0x1D7C9C18348>,\n <PIL.PngImagePlugin.PngImageFile image mode=RGB size=64x64 at 0x1D7C9C40148>,\n <PIL.PngImagePlugin.PngImageFile image mode=RGB size=64x64 at 0x1D7C9C44D48>,\n <PIL.PngImagePlugin.PngImageFile image mode=RGB size=64x64 at 0x1D7C9C18EC8>,\n <PIL.PngImagePlugin.PngImageFile image mode=RGB size=64x64 at 0x1D7C9C40A08>,\n <PIL.PngImagePlugin.PngImageFile image mode=RGB size=64x64 at 0x1D7C9C40C08>,\n <PIL.PngImagePlugin.PngImageFile image mode=RGB size=64x64 at 0x1D7C9C90108>,\n <PIL.PngImagePlugin.PngImageFile image mode=RGB size=64x64 at 0x1D7C9C5C148>,\n <PIL.PngImagePlugin.PngImageFile image mode=RGB size=64x64 at 0x1D7C9C5C548>,\n <PIL.PngImagePlugin.PngImageFile image mode=RGB size=64x64 at 0x1D7C9C90548>,\n <PIL.PngImagePlugin.PngImageFile image mode=RGB size=64x64 at 0x1D7C9C40E48>,\n <PIL.PngImagePlugin.PngImageFile image mode=RGB size=64x64 at 0x1D7C9C181C8>,\n <PIL.PngImagePlugin.PngImageFile image mode=RGB size=64x64 at 0x1D7C9BBF808>,\n <PIL.PngImagePlugin.PngImageFile image mode=RGB size=64x64 at 0x1D7C9C5C908>,\n <PIL.PngImagePlugin.PngImageFile image mode=RGB size=64x64 at 0x1D7C9C402C8>,\n <PIL.PngImagePlugin.PngImageFile image mode=RGB size=64x64 at 0x1D7C9C74D88>,\n <PIL.PngImagePlugin.PngImageFile image mode=RGB size=64x64 at 0x1D7C9BEA688>,\n <PIL.PngImagePlugin.PngImageFile image mode=RGB size=64x64 at 0x1D7C9BBFC88>,\n <PIL.PngImagePlugin.PngImageFile image mode=RGB size=64x64 at 0x1D7C9BBFF88>,\n <PIL.PngImagePlugin.PngImageFile image mode=RGB size=64x64 at 0x1D7C9C40D08>,\n <PIL.PngImagePlugin.PngImageFile image mode=RGB size=64x64 at 0x1D7C9B2E5C8>,\n <PIL.PngImagePlugin.PngImageFile image mode=RGB size=64x64 at 0x1D7C9C59088>,\n <PIL.PngImagePlugin.PngImageFile image mode=RGB size=64x64 at 0x1D7C9C74C08>,\n <PIL.PngImagePlugin.PngImageFile image mode=RGB size=64x64 at 0x1D7C9BBF0C8>,\n <PIL.PngImagePlugin.PngImageFile image mode=RGB size=64x64 at 0x1D7C9C74E88>,\n <PIL.PngImagePlugin.PngImageFile image mode=RGB size=64x64 at 0x1D7C9C59AC8>,\n <PIL.PngImagePlugin.PngImageFile image mode=RGB size=64x64 at 0x1D7C9C59248>,\n <PIL.PngImagePlugin.PngImageFile image mode=RGB size=64x64 at 0x1D7C9C698C8>,\n <PIL.PngImagePlugin.PngImageFile image mode=RGB size=64x64 at 0x1D7C9BF8488>,\n <PIL.PngImagePlugin.PngImageFile image mode=RGB size=64x64 at 0x1D7C9C744C8>,\n <PIL.PngImagePlugin.PngImageFile image mode=RGB size=64x64 at 0x1D7C9B47388>,\n <PIL.PngImagePlugin.PngImageFile image mode=RGB size=64x64 at 0x1D7C9B47CC8>,\n <PIL.PngImagePlugin.PngImageFile image mode=RGB size=64x64 at 0x1D7C9BBFDC8>,\n <PIL.PngImagePlugin.PngImageFile image mode=RGB size=64x64 at 0x1D7C9B470C8>,\n <PIL.PngImagePlugin.PngImageFile image mode=RGB size=64x64 at 0x1D7C9B47588>,\n <PIL.PngImagePlugin.PngImageFile image mode=RGB size=64x64 at 0x1D7C9B9C388>,\n <PIL.PngImagePlugin.PngImageFile image mode=RGB size=64x64 at 0x1D7C9BF83C8>,\n <PIL.PngImagePlugin.PngImageFile image mode=RGB size=64x64 at 0x1D7C9B478C8>,\n <PIL.PngImagePlugin.PngImageFile image mode=RGB size=64x64 at 0x1D7C9B47D48>,\n <PIL.PngImagePlugin.PngImageFile image mode=RGB size=64x64 at 0x1D7C9BB0348>,\n <PIL.PngImagePlugin.PngImageFile image mode=RGB size=64x64 at 0x1D7C9BF8688>,\n <PIL.PngImagePlugin.PngImageFile image mode=RGB size=64x64 at 0x1D7C9BF8788>,\n <PIL.PngImagePlugin.PngImageFile image mode=RGB size=64x64 at 0x1D7C9B9C288>,\n <PIL.PngImagePlugin.PngImageFile image mode=RGB size=64x64 at 0x1D7C9B475C8>,\n <PIL.PngImagePlugin.PngImageFile image mode=RGB size=64x64 at 0x1D7BB999E88>,\n <PIL.PngImagePlugin.PngImageFile image mode=RGB size=64x64 at 0x1D7C9B9C648>,\n <PIL.PngImagePlugin.PngImageFile image mode=RGB size=64x64 at 0x1D7BB999848>,\n <PIL.PngImagePlugin.PngImageFile image mode=RGB size=64x64 at 0x1D7BB999D08>,\n <PIL.PngImagePlugin.PngImageFile image mode=RGB size=64x64 at 0x1D7BBA409C8>,\n <PIL.PngImagePlugin.PngImageFile image mode=RGB size=64x64 at 0x1D7C9B9C0C8>,\n <PIL.PngImagePlugin.PngImageFile image mode=RGB size=64x64 at 0x1D7BBA405C8>,\n <PIL.PngImagePlugin.PngImageFile image mode=RGB size=64x64 at 0x1D7BBA40848>,\n <PIL.PngImagePlugin.PngImageFile image mode=RGB size=64x64 at 0x1D7C9B47448>,\n <PIL.PngImagePlugin.PngImageFile image mode=RGB size=64x64 at 0x1D7BA1DC548>,\n <PIL.PngImagePlugin.PngImageFile image mode=RGB size=64x64 at 0x1D7BBA40108>,\n <PIL.PngImagePlugin.PngImageFile image mode=RGB size=64x64 at 0x1D7BBA40648>,\n <PIL.PngImagePlugin.PngImageFile image mode=RGB size=64x64 at 0x1D7BB999F08>,\n <PIL.PngImagePlugin.PngImageFile image mode=RGB size=64x64 at 0x1D7BBA40488>,\n <PIL.PngImagePlugin.PngImageFile image mode=RGB size=64x64 at 0x1D7BB6E3B48>,\n <PIL.PngImagePlugin.PngImageFile image mode=RGB size=64x64 at 0x1D7BB6E3A08>,\n <PIL.PngImagePlugin.PngImageFile image mode=RGB size=64x64 at 0x1D7BB92F488>,\n <PIL.PngImagePlugin.PngImageFile image mode=RGB size=64x64 at 0x1D7BB6E3C48>,\n <PIL.PngImagePlugin.PngImageFile image mode=RGB size=64x64 at 0x1D7BBA40948>,\n <PIL.PngImagePlugin.PngImageFile image mode=RGB size=64x64 at 0x1D7BB6E3D88>,\n <PIL.PngImagePlugin.PngImageFile image mode=RGB size=64x64 at 0x1D7BB6E3DC8>,\n <PIL.PngImagePlugin.PngImageFile image mode=RGB size=64x64 at 0x1D7BB6E3F48>,\n <PIL.PngImagePlugin.PngImageFile image mode=RGB size=64x64 at 0x1D7BB6E3BC8>,\n <PIL.PngImagePlugin.PngImageFile image mode=RGB size=64x64 at 0x1D7C9B9CA48>,\n <PIL.PngImagePlugin.PngImageFile image mode=RGB size=64x64 at 0x1D7BB6E3088>,\n <PIL.PngImagePlugin.PngImageFile image mode=RGB size=64x64 at 0x1D7B98E09C8>,\n <PIL.PngImagePlugin.PngImageFile image mode=RGB size=64x64 at 0x1D7B98E05C8>,\n <PIL.PngImagePlugin.PngImageFile image mode=RGB size=64x64 at 0x1D7BB917288>,\n <PIL.PngImagePlugin.PngImageFile image mode=RGB size=64x64 at 0x1D7BB917608>,\n <PIL.PngImagePlugin.PngImageFile image mode=RGB size=64x64 at 0x1D7BB999388>,\n <PIL.PngImagePlugin.PngImageFile image mode=RGB size=64x64 at 0x1D7BB9339C8>,\n <PIL.PngImagePlugin.PngImageFile image mode=RGB size=64x64 at 0x1D7BB933E88>,\n <PIL.PngImagePlugin.PngImageFile image mode=RGB size=64x64 at 0x1D7BB917888>,\n <PIL.PngImagePlugin.PngImageFile image mode=RGB size=64x64 at 0x1D7BB917C48>,\n <PIL.PngImagePlugin.PngImageFile image mode=RGB size=64x64 at 0x1D7BBA40588>,\n <PIL.PngImagePlugin.PngImageFile image mode=RGB size=64x64 at 0x1D7BB933908>,\n <PIL.PngImagePlugin.PngImageFile image mode=RGB size=64x64 at 0x1D7BB917EC8>,\n <PIL.PngImagePlugin.PngImageFile image mode=RGB size=64x64 at 0x1D7BB9174C8>,\n <PIL.PngImagePlugin.PngImageFile image mode=RGB size=64x64 at 0x1D7BB933048>,\n <PIL.PngImagePlugin.PngImageFile image mode=RGB size=64x64 at 0x1D7BB9170C8>,\n <PIL.PngImagePlugin.PngImageFile image mode=RGB size=64x64 at 0x1D7BB933D88>,\n <PIL.PngImagePlugin.PngImageFile image mode=RGB size=64x64 at 0x1D7BC8D5F08>,\n <PIL.PngImagePlugin.PngImageFile image mode=RGB size=64x64 at 0x1D7BAA05488>,\n <PIL.PngImagePlugin.PngImageFile image mode=RGB size=64x64 at 0x1D7BE450608>,\n <PIL.PngImagePlugin.PngImageFile image mode=RGB size=64x64 at 0x1D7BE450C08>,\n <PIL.PngImagePlugin.PngImageFile image mode=RGB size=64x64 at 0x1D7BAA103C8>,\n <PIL.PngImagePlugin.PngImageFile image mode=RGB size=64x64 at 0x1D7BE4502C8>,\n <PIL.PngImagePlugin.PngImageFile image mode=RGB size=64x64 at 0x1D7BAA05B08>,\n <PIL.PngImagePlugin.PngImageFile image mode=RGB size=64x64 at 0x1D7BE450C88>,\n <PIL.PngImagePlugin.PngImageFile image mode=RGB size=64x64 at 0x1D7BE450308>,\n <PIL.PngImagePlugin.PngImageFile image mode=RGB size=64x64 at 0x1D7BE4509C8>,\n <PIL.PngImagePlugin.PngImageFile image mode=RGB size=64x64 at 0x1D7BB917688>,\n <PIL.PngImagePlugin.PngImageFile image mode=RGB size=64x64 at 0x1D7BBA66908>,\n <PIL.PngImagePlugin.PngImageFile image mode=RGB size=64x64 at 0x1D7BBA66C08>,\n <PIL.PngImagePlugin.PngImageFile image mode=RGB size=64x64 at 0x1D7BBA66408>,\n <PIL.PngImagePlugin.PngImageFile image mode=RGB size=64x64 at 0x1D7BBA66208>,\n <PIL.PngImagePlugin.PngImageFile image mode=RGB size=64x64 at 0x1D7BBA669C8>,\n <PIL.PngImagePlugin.PngImageFile image mode=RGB size=64x64 at 0x1D7BB8BB048>,\n <PIL.PngImagePlugin.PngImageFile image mode=RGB size=64x64 at 0x1D7BBA662C8>,\n <PIL.PngImagePlugin.PngImageFile image mode=RGB size=64x64 at 0x1D7BBB457C8>,\n <PIL.PngImagePlugin.PngImageFile image mode=RGB size=64x64 at 0x1D7BAA05788>,\n <PIL.PngImagePlugin.PngImageFile image mode=RGB size=64x64 at 0x1D7BBA667C8>,\n <PIL.PngImagePlugin.PngImageFile image mode=RGB size=64x64 at 0x1D7BE45B048>,\n <PIL.PngImagePlugin.PngImageFile image mode=RGB size=64x64 at 0x1D7BE45B3C8>,\n <PIL.PngImagePlugin.PngImageFile image mode=RGB size=64x64 at 0x1D7BE45B848>,\n <PIL.PngImagePlugin.PngImageFile image mode=RGB size=64x64 at 0x1D7BBA66B08>,\n <PIL.PngImagePlugin.PngImageFile image mode=RGB size=64x64 at 0x1D7BBA66608>,\n <PIL.PngImagePlugin.PngImageFile image mode=RGB size=64x64 at 0x1D7BE45B588>,\n <PIL.PngImagePlugin.PngImageFile image mode=RGB size=64x64 at 0x1D7BE45B408>,\n <PIL.PngImagePlugin.PngImageFile image mode=RGB size=64x64 at 0x1D7BE45BC08>,\n <PIL.PngImagePlugin.PngImageFile image mode=RGB size=64x64 at 0x1D7BBA66FC8>,\n <PIL.PngImagePlugin.PngImageFile image mode=RGB size=64x64 at 0x1D7BDFC3F88>,\n <PIL.PngImagePlugin.PngImageFile image mode=RGB size=64x64 at 0x1D7BDFC3688>,\n <PIL.PngImagePlugin.PngImageFile image mode=RGB size=64x64 at 0x1D7BDFC3D88>,\n <PIL.PngImagePlugin.PngImageFile image mode=RGB size=64x64 at 0x1D7BDFC3848>,\n <PIL.PngImagePlugin.PngImageFile image mode=RGB size=64x64 at 0x1D7BDFC32C8>,\n <PIL.PngImagePlugin.PngImageFile image mode=RGB size=64x64 at 0x1D7BBA91248>,\n <PIL.PngImagePlugin.PngImageFile image mode=RGB size=64x64 at 0x1D7BDFC3D08>,\n <PIL.PngImagePlugin.PngImageFile image mode=RGB size=64x64 at 0x1D7BDFC3308>,\n <PIL.PngImagePlugin.PngImageFile image mode=RGB size=64x64 at 0x1D7BDFC3588>,\n <PIL.PngImagePlugin.PngImageFile image mode=RGB size=64x64 at 0x1D7BDFC3388>,\n <PIL.PngImagePlugin.PngImageFile image mode=RGB size=64x64 at 0x1D7BE97D2C8>,\n <PIL.PngImagePlugin.PngImageFile image mode=RGB size=64x64 at 0x1D7BE97D1C8>,\n <PIL.PngImagePlugin.PngImageFile image mode=RGB size=64x64 at 0x1D7BDFC3248>,\n <PIL.PngImagePlugin.PngImageFile image mode=RGB size=64x64 at 0x1D7BE97D948>,\n <PIL.PngImagePlugin.PngImageFile image mode=RGB size=64x64 at 0x1D7BDFC38C8>,\n <PIL.PngImagePlugin.PngImageFile image mode=RGB size=64x64 at 0x1D7BE97DF48>,\n <PIL.PngImagePlugin.PngImageFile image mode=RGB size=64x64 at 0x1D7BE97D5C8>,\n <PIL.PngImagePlugin.PngImageFile image mode=RGB size=64x64 at 0x1D7BE97D808>,\n <PIL.PngImagePlugin.PngImageFile image mode=RGB size=64x64 at 0x1D7BBA660C8>,\n <PIL.PngImagePlugin.PngImageFile image mode=RGB size=64x64 at 0x1D7BEAC13C8>,\n ...]"
     },
     "metadata": {},
     "execution_count": 92
    }
   ],
   "source": []
  },
  {
   "cell_type": "code",
   "execution_count": null,
   "metadata": {},
   "outputs": [],
   "source": []
  }
 ],
 "metadata": {
  "language_info": {
   "codemirror_mode": {
    "name": "ipython",
    "version": 3
   },
   "file_extension": ".py",
   "mimetype": "text/x-python",
   "name": "python",
   "nbconvert_exporter": "python",
   "pygments_lexer": "ipython3",
   "version": "3.7.7-final"
  },
  "orig_nbformat": 2,
  "kernelspec": {
   "name": "python37764bitprojectopencvconda9c8a2cf3a91049b78551fa14728e9877",
   "display_name": "Python 3.7.7 64-bit ('project_opencv': conda)"
  }
 },
 "nbformat": 4,
 "nbformat_minor": 2
}