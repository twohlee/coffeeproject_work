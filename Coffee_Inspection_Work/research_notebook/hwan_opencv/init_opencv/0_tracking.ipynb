{
  "nbformat": 4,
  "nbformat_minor": 0,
  "metadata": {
    "colab": {
      "name": "(study)complex_space_MNIST의 사본",
      "provenance": [],
      "collapsed_sections": [],
      "toc_visible": true
    },
    "kernelspec": {
      "name": "python3",
      "display_name": "Python 3"
    }
  },
  "cells": [
    {
      "cell_type": "markdown",
      "metadata": {
        "id": "TvKrG-Yfvy4i",
        "colab_type": "text"
      },
      "source": [
        "# 모듈 불러오기"
      ]
    },
    {
      "cell_type": "code",
      "metadata": {
        "id": "adT5LO7LKff9",
        "colab_type": "code",
        "colab": {}
      },
      "source": [
        "import matplotlib.pyplot as plt\n",
        "import numpy as np\n",
        "from tqdm.notebook import tqdm\n",
        "%matplotlib inline\n",
        "from scipy import fftpack, fft\n",
        "import numpy as np\n",
        "from PIL import Image\n",
        "import math"
      ],
      "execution_count": 0,
      "outputs": []
    },
    {
      "cell_type": "code",
      "metadata": {
        "id": "zv36DvUCOcH6",
        "colab_type": "code",
        "colab": {}
      },
      "source": [
        "PI = math.pi"
      ],
      "execution_count": 0,
      "outputs": []
    },
    {
      "cell_type": "markdown",
      "metadata": {
        "id": "9KCjizFYBdR6",
        "colab_type": "text"
      },
      "source": [
        "# 데이터 불러오기"
      ]
    },
    {
      "cell_type": "code",
      "metadata": {
        "id": "a8TWEJL1vyAz",
        "colab_type": "code",
        "colab": {}
      },
      "source": [
        "img_data_countour = list()\n",
        "img_data = list()\n",
        "for num in range(0,10):\n",
        "  \n",
        "  tmp_img_countour = Image.open(f'/content/drive/My Drive/_camp/mnist/{num}_contour.png의 사본')\n",
        "  tmp_img = Image.open(f'/content/drive/My Drive/_camp/mnist/{num}.png의 사본')\n",
        "  \n",
        "  tmp_img_countour = 255 - np.array(tmp_img_countour.convert('L'))\n",
        "  tmp_img = 255 - np.array(tmp_img.convert('L'))\n",
        "  \n",
        "  img_data_countour.append(tmp_img_countour)\n",
        "  img_data.append(tmp_img)"
      ],
      "execution_count": 0,
      "outputs": []
    },
    {
      "cell_type": "code",
      "metadata": {
        "id": "n8N5bnRjwMrJ",
        "colab_type": "code",
        "outputId": "498156bf-15f1-4b8e-bd35-f007e922f027",
        "colab": {
          "base_uri": "https://localhost:8080/",
          "height": 459
        }
      },
      "source": [
        "# 컨투어 내부 이미지 구현\n",
        "fig = plt.figure(figsize = (10,10))\n",
        "\n",
        "for num in range(1,11):\n",
        "  ax = fig.add_subplot(2,5,num)\n",
        "  ax.imshow(img_data[num-1])\n",
        "  ax.set_title(str(num-1),fontsize = 15, color = 'w')"
      ],
      "execution_count": 0,
      "outputs": [
        {
          "output_type": "display_data",
          "data": {
            "image/png": "[encoded data removed]",
            "text/plain": [
              "<Figure size 720x720 with 10 Axes>"
            ]
          },
          "metadata": {
            "tags": []
          }
        }
      ]
    },
    {
      "cell_type": "code",
      "metadata": {
        "id": "KYTEVeYawWOp",
        "colab_type": "code",
        "outputId": "a8ec550c-d479-4473-935c-1c64e1f806ee",
        "colab": {
          "base_uri": "https://localhost:8080/",
          "height": 459
        }
      },
      "source": [
        "# 컨투어 이미지 확인\n",
        "fig = plt.figure(figsize = (10,10))\n",
        "\n",
        "for num in range(1,11):\n",
        "  ax = fig.add_subplot(2,5,num)\n",
        "  ax.imshow(img_data_countour[num-1])\n",
        "  ax.set_title(str(num-1),fontsize = 15, color = 'w')"
      ],
      "execution_count": 0,
      "outputs": [
        {
          "output_type": "display_data",
          "data": {
            "image/png": "[encoded data removed]",
            "text/plain": [
              "<Figure size 720x720 with 10 Axes>"
            ]
          },
          "metadata": {
            "tags": []
          }
        }
      ]
    },
    {
      "cell_type": "markdown",
      "metadata": {
        "id": "oUcpNKYoBimo",
        "colab_type": "text"
      },
      "source": [
        "# 이미지 데이터 처리하기"
      ]
    },
    {
      "cell_type": "markdown",
      "metadata": {
        "id": "mFML6Y-KBmjH",
        "colab_type": "text"
      },
      "source": [
        "## 무게중심 구하기"
      ]
    },
    {
      "cell_type": "code",
      "metadata": {
        "id": "D-ZpHDh0w-Ig",
        "colab_type": "code",
        "colab": {}
      },
      "source": [
        "def calculateCenter(img_num):\n",
        "  # 무게중심 구하기\n",
        "  img_num = img_num\n",
        "\n",
        "  height = img_data[img_num].shape[0]\n",
        "  width = img_data[img_num].shape[1]\n",
        "\n",
        "  R = list()\n",
        "  for y in range(height):\n",
        "    for x in range(width):\n",
        "      if img_data[img_num][y,x]:            \n",
        "        R.append([x, (height-y)*1j])\n",
        "\n",
        "  # 질량의 합\n",
        "  M = len(R)\n",
        "\n",
        "  # 질량중심 벡터는 이미지를 기준으로 (x,y) => (height-y)\n",
        "  R = np.array(R)\n",
        "  R_x = R[:,0]\n",
        "  R_y = R[:,1]\n",
        "\n",
        "  R_x_sum = R_x.sum()\n",
        "  R_y_sum = R_y.sum()\n",
        "\n",
        "  center = np.round(R_x_sum/M).real , (np.round(R_y_sum/M)*-1j).real\n",
        " \n",
        "  height_center = center[1]\n",
        "  width_center = center[0]\n",
        "  return width_center, height_center, M, R"
      ],
      "execution_count": 0,
      "outputs": []
    },
    {
      "cell_type": "code",
      "metadata": {
        "id": "a51kU9UIxD1p",
        "colab_type": "code",
        "outputId": "2ec27a47-667a-4190-f9de-17446f4a7265",
        "colab": {
          "base_uri": "https://localhost:8080/",
          "height": 179
        }
      },
      "source": [
        "for i in range(9):\n",
        "  print(str(i), ':', 'width_center = ', calculateCenter(i)[0], '     ' , 'height_center = ', calculateCenter(i)[1], '     ' , 'M = ', calculateCenter(i)[2])"
      ],
      "execution_count": 0,
      "outputs": [
        {
          "output_type": "stream",
          "text": [
            "0 : width_center =  13.0       height_center =  15.0       M =  781\n",
            "1 : width_center =  13.0       height_center =  14.0       M =  784\n",
            "2 : width_center =  14.0       height_center =  14.0       M =  783\n",
            "3 : width_center =  14.0       height_center =  14.0       M =  783\n",
            "4 : width_center =  13.0       height_center =  14.0       M =  783\n",
            "5 : width_center =  13.0       height_center =  14.0       M =  783\n",
            "6 : width_center =  14.0       height_center =  15.0       M =  781\n",
            "7 : width_center =  14.0       height_center =  14.0       M =  783\n",
            "8 : width_center =  13.0       height_center =  15.0       M =  783\n"
          ],
          "name": "stdout"
        }
      ]
    },
    {
      "cell_type": "markdown",
      "metadata": {
        "id": "_3-x4TbNBovX",
        "colab_type": "text"
      },
      "source": [
        "## 벡터그리기"
      ]
    },
    {
      "cell_type": "code",
      "metadata": {
        "id": "d6cSg9_DxFVp",
        "colab_type": "code",
        "colab": {}
      },
      "source": [
        "# 벡터 그리기\n",
        "def drawVector(img_num):\n",
        "  height = img_data_countour[img_num].shape[0]\n",
        "  width = img_data_countour[img_num].shape[1]\n",
        "\n",
        "  fig = plt.figure(figsize = (10,10))\n",
        "  ax = fig.gca()\n",
        "  ax.set_xlim([-width, 2*width])\n",
        "  ax.set_ylim([-height,2*height])\n",
        "  all_vectors = list()\n",
        "  for y in range(img_data_countour[img_num].shape[0]):\n",
        "    for x in range(img_data_countour[img_num].shape[1]):\n",
        "      if img_data_countour[img_num][y,x]:        \n",
        "        # 이미지 상에서 (x,y)로 나타내자\n",
        "        all_vectors.append(    [ x-calculateCenter(img_num)[0], (height - y) - calculateCenter(img_num)[1] ])\n",
        "        ax.quiver(calculateCenter(img_num)[0],calculateCenter(img_num)[1],x-calculateCenter(img_num)[0], (height - y) - calculateCenter(img_num)[1] , angles='xy', scale_units='xy',scale=1, width = 0.001)\n",
        "        \n",
        "  sum_vector1 = np.array([np.array(all_vectors)[:,0].sum(), np.array(all_vectors)[:,1].sum()]) # (x,y)\n",
        "  ax.quiver(calculateCenter(img_num)[0],calculateCenter(img_num)[1],sum_vector1[0], sum_vector1[1] , angles='xy', scale_units='xy',scale=1, color = 'r')"
      ],
      "execution_count": 0,
      "outputs": []
    },
    {
      "cell_type": "code",
      "metadata": {
        "id": "aCuWwUmTxPFh",
        "colab_type": "code",
        "outputId": "d5812c2a-1b85-4742-dce8-1c85395154d2",
        "colab": {
          "base_uri": "https://localhost:8080/",
          "height": 592
        }
      },
      "source": [
        "drawVector(4)"
      ],
      "execution_count": 0,
      "outputs": [
        {
          "output_type": "display_data",
          "data": {
            "image/png": "[encoded data removed]",
            "text/plain": [
              "<Figure size 720x720 with 1 Axes>"
            ]
          },
          "metadata": {
            "tags": []
          }
        }
      ]
    },
    {
      "cell_type": "markdown",
      "metadata": {
        "id": "kdK4mmoaBqfA",
        "colab_type": "text"
      },
      "source": [
        "## 푸리에 시리즈 구현해보기"
      ]
    },
    {
      "cell_type": "code",
      "metadata": {
        "id": "IuyRkmBpxQsh",
        "colab_type": "code",
        "colab": {}
      },
      "source": [
        "# 벡터 그리기\n",
        "def dimensionExpansion(img_num):\n",
        "  height = img_data_countour[img_num].shape[0]\n",
        "  width = img_data_countour[img_num].shape[1]\n",
        "\n",
        "  all_vectors = list()\n",
        "  for y in range(img_data_countour[img_num].shape[0]):\n",
        "    for x in range(img_data_countour[img_num].shape[1]):\n",
        "      if img_data_countour[img_num][y,x]:        \n",
        "        # 이미지 상에서 (x,y)로 나타내자\n",
        "        all_vectors.append(    [ x-calculateCenter(img_num)[0], (height - y) - calculateCenter(img_num)[1] ])\n",
        "  return np.array(all_vectors)"
      ],
      "execution_count": 0,
      "outputs": []
    },
    {
      "cell_type": "code",
      "metadata": {
        "id": "EeMinDUWDNYM",
        "colab_type": "code",
        "colab": {}
      },
      "source": [
        "all_vectors = dimensionExpansion(6)\n",
        "# all_vectors_size = np.sqrt(all_vectors[:,0]**2 + all_vectors[:,1]**2)\n",
        "# all_vectors_angle = np.arcsin(all_vectors[:,1]/all_vectors_size) # 라디안 값으로 주어진다\n",
        "\n"
      ],
      "execution_count": 0,
      "outputs": []
    },
    {
      "cell_type": "code",
      "metadata": {
        "id": "JieVQs3PEvue",
        "colab_type": "code",
        "outputId": "9324d863-ee61-46bc-914c-8185b25f4066",
        "colab": {
          "base_uri": "https://localhost:8080/",
          "height": 53
        }
      },
      "source": [
        "# 1,2,3,4 사분면을 나눠보자\n",
        "first   = list()\n",
        "second  = list()\n",
        "third   = list()\n",
        "fourth  = list()\n",
        "first_dict    = dict()\n",
        "second_dict   = dict()\n",
        "third_dict    = dict()\n",
        "fourth_dict   = dict()\n",
        "for i in all_vectors:\n",
        "  x,y = i\n",
        "  if x >= 0 and y >= 0:\n",
        "    size1 = np.sqrt(x**2 + y**2)\n",
        "    theta1 = np.arccos(x/size1)\n",
        "    first.append([x,y,size1,theta1]) # [x,y,size1,theta1]\n",
        "    # print('1사분면: ' , x,y)\n",
        "  if x < 0 and y >= 0:\n",
        "    size2 = np.sqrt(x**2 + y**2)\n",
        "    theta2 = np.arccos(x/size2)\n",
        "    second.append([x,y,size2, theta2])\n",
        "    # print('2사분면: ', x,y)\n",
        "  if x < 0 and y < 0:\n",
        "    size3 = np.sqrt(x**2 + y**2)\n",
        "    theta3 = np.arccos(x/size3) + PI\n",
        "    third.append([x,y,size3, theta3])\n",
        "    # print('3사분면: ', x,y)\n",
        "  if x >= 0 and y < 0:\n",
        "    size4 = np.sqrt(x**2 + y**2)\n",
        "    theta4 = np.arccos(y/size4) + PI\n",
        "    fourth.append([x,y,size4, theta4])\n",
        "    # print('4사분면: ', x,y)"
      ],
      "execution_count": 0,
      "outputs": [
        {
          "output_type": "stream",
          "text": [
            "/usr/local/lib/python3.6/dist-packages/ipykernel_launcher.py:13: RuntimeWarning: invalid value encountered in double_scalars\n",
            "  del sys.path[0]\n"
          ],
          "name": "stderr"
        }
      ]
    },
    {
      "cell_type": "code",
      "metadata": {
        "id": "Ko0yPFU8F-Mj",
        "colab_type": "code",
        "outputId": "b08f682a-fd5d-4861-cace-87e261375436",
        "colab": {
          "base_uri": "https://localhost:8080/",
          "height": 179
        }
      },
      "source": [
        "third"
      ],
      "execution_count": 0,
      "outputs": [
        {
          "output_type": "execute_result",
          "data": {
            "text/plain": [
              "[[-5.0, -1.0, 5.0990195135927845, 6.085789747329706],\n",
              " [-5.0, -2.0, 5.385164807134504, 5.902678930067221],\n",
              " [-5.0, -3.0, 5.830951894845301, 5.742765806909002],\n",
              " [-4.0, -4.0, 5.656854249492381, 5.497787143782138],\n",
              " [-4.0, -5.0, 6.4031242374328485, 5.387129922608242],\n",
              " [-4.0, -6.0, 7.211102550927978, 5.3003915839322575],\n",
              " [-3.0, -7.0, 7.615773105863909, 5.117280766669773],\n",
              " [-2.0, -8.0, 8.246211251235321, 4.957367643511554],\n",
              " [-1.0, -9.0, 9.055385138137417, 4.8230462015585855]]"
            ]
          },
          "metadata": {
            "tags": []
          },
          "execution_count": 33
        }
      ]
    },
    {
      "cell_type": "markdown",
      "metadata": {
        "id": "9Xk9iUn0Yfy7",
        "colab_type": "text"
      },
      "source": [
        "<hr>\n",
        "\n",
        "# 해봅시다"
      ]
    },
    {
      "cell_type": "code",
      "metadata": {
        "id": "HKcPH3FbaZ8o",
        "colab_type": "code",
        "outputId": "4a2dfa88-9680-4fe0-f83c-998a167d2600",
        "colab": {
          "base_uri": "https://localhost:8080/",
          "height": 459
        }
      },
      "source": [
        "# 컨투어 이미지 확인\n",
        "fig = plt.figure(figsize = (10,10))\n",
        "\n",
        "for num in range(1,11):\n",
        "  ax = fig.add_subplot(2,5,num)\n",
        "  ax.imshow(img_data_countour[num-1])\n",
        "  ax.set_title(str(num-1),fontsize = 15, color = 'w')"
      ],
      "execution_count": 0,
      "outputs": [
        {
          "output_type": "display_data",
          "data": {
            "image/png": "[encoded data removed]",
            "text/plain": [
              "<Figure size 720x720 with 10 Axes>"
            ]
          },
          "metadata": {
            "tags": []
          }
        }
      ]
    },
    {
      "cell_type": "code",
      "metadata": {
        "id": "cr-5MXlrY0hS",
        "colab_type": "code",
        "colab": {}
      },
      "source": [
        "all_vectors = dimensionExpansion(0)"
      ],
      "execution_count": 0,
      "outputs": []
    },
    {
      "cell_type": "code",
      "metadata": {
        "id": "dqE_XkxNY1Ei",
        "colab_type": "code",
        "outputId": "1cf31c33-3815-434b-beb0-f3e64a09a7ca",
        "colab": {
          "base_uri": "https://localhost:8080/",
          "height": 35
        }
      },
      "source": [
        "all_vectors.shape"
      ],
      "execution_count": 0,
      "outputs": [
        {
          "output_type": "execute_result",
          "data": {
            "text/plain": [
              "(47, 2)"
            ]
          },
          "metadata": {
            "tags": []
          },
          "execution_count": 47
        }
      ]
    },
    {
      "cell_type": "code",
      "metadata": {
        "id": "jIWMTswpY1Fp",
        "colab_type": "code",
        "colab": {}
      },
      "source": [
        "all_vectors[:,0]"
      ],
      "execution_count": 0,
      "outputs": []
    },
    {
      "cell_type": "code",
      "metadata": {
        "id": "R9oSpnvoY1HT",
        "colab_type": "code",
        "outputId": "50c9c305-7773-439f-98af-795f3c522d75",
        "colab": {
          "base_uri": "https://localhost:8080/",
          "height": 89
        }
      },
      "source": [
        "all_vectors[:,0]"
      ],
      "execution_count": 0,
      "outputs": [
        {
          "output_type": "execute_result",
          "data": {
            "text/plain": [
              "array([ 0.,  1.,  2.,  0.,  2., -1.,  2., -2.,  3., -3.,  4.,  5., -4.,\n",
              "        6., -4.,  6., -5.,  7., -5.,  8., -5.,  8., -5.,  9., -6.,  8.,\n",
              "       -6.,  8., -6.,  7., -6.,  7., -6.,  6., -5.,  5.,  6., -5.,  3.,\n",
              "        4., -4., -3.,  1.,  2., -2., -1.,  0.])"
            ]
          },
          "metadata": {
            "tags": []
          },
          "execution_count": 49
        }
      ]
    },
    {
      "cell_type": "code",
      "metadata": {
        "id": "YxvI5zxgY1Ip",
        "colab_type": "code",
        "outputId": "51af5b91-2d70-43ac-e6cc-188295399f64",
        "colab": {
          "base_uri": "https://localhost:8080/",
          "height": 107
        }
      },
      "source": [
        "all_vectors[:,1]"
      ],
      "execution_count": 0,
      "outputs": [
        {
          "output_type": "execute_result",
          "data": {
            "text/plain": [
              "array([  9.,   9.,   9.,   8.,   8.,   7.,   7.,   6.,   6.,   5.,   5.,\n",
              "         5.,   4.,   4.,   3.,   3.,   2.,   2.,   1.,   1.,   0.,   0.,\n",
              "        -1.,  -1.,  -2.,  -2.,  -3.,  -3.,  -4.,  -4.,  -5.,  -5.,  -6.,\n",
              "        -6.,  -7.,  -7.,  -7.,  -8.,  -8.,  -8.,  -9.,  -9.,  -9.,  -9.,\n",
              "       -10., -10., -10.])"
            ]
          },
          "metadata": {
            "tags": []
          },
          "execution_count": 50
        }
      ]
    },
    {
      "cell_type": "code",
      "metadata": {
        "id": "eAl-MlBWfPQl",
        "colab_type": "code",
        "colab": {}
      },
      "source": [
        "# 수치형으로 변환\n",
        "ori_data = all_vectors\n",
        "ori_data = ori_data.astype(int)"
      ],
      "execution_count": 0,
      "outputs": []
    },
    {
      "cell_type": "code",
      "metadata": {
        "id": "f9QBFssIY1J7",
        "colab_type": "code",
        "outputId": "93dc9f69-1801-4a44-9523-e13edc578230",
        "colab": {
          "base_uri": "https://localhost:8080/",
          "height": 35
        }
      },
      "source": [
        "# 기준잡기, y=0, x=max\n",
        "y_0 = ori_data[ori_data[:,1]==0]\n",
        "# y_0_idx = y_0.argmax()\n",
        "y_0_val = y_0.max(0)\n",
        "\n",
        "# 정리\n",
        "base = ori_data[ori_data[:,1]==0].max(0)\n",
        "base"
      ],
      "execution_count": 0,
      "outputs": [
        {
          "output_type": "execute_result",
          "data": {
            "text/plain": [
              "array([8, 0])"
            ]
          },
          "metadata": {
            "tags": []
          },
          "execution_count": 182
        }
      ]
    },
    {
      "cell_type": "code",
      "metadata": {
        "id": "7m8PtaqnxecN",
        "colab_type": "code",
        "outputId": "f2918683-b005-4f30-a7fb-10867bace4ed",
        "colab": {
          "base_uri": "https://localhost:8080/",
          "height": 35
        }
      },
      "source": [
        "# 기준잡기 clean ver\n",
        "def find_base(ori_data):\n",
        "  ori_data = ori_data.astype(int)\n",
        "  base = ori_data[ori_data[:,1]==0].max(0)\n",
        "  return np.array([base[0]]), base[1]\n",
        "find_base(ori_data)"
      ],
      "execution_count": 0,
      "outputs": [
        {
          "output_type": "execute_result",
          "data": {
            "text/plain": [
              "(array([8]), 0)"
            ]
          },
          "metadata": {
            "tags": []
          },
          "execution_count": 269
        }
      ]
    },
    {
      "cell_type": "code",
      "metadata": {
        "id": "ViNsKx0-Y1NE",
        "colab_type": "code",
        "outputId": "5a6ac3cc-a031-4b57-8695-8119423c48ee",
        "colab": {
          "base_uri": "https://localhost:8080/",
          "height": 197
        }
      },
      "source": [
        "# data 복사본\n",
        "tmp = ori_data\n",
        "tmp1 =np.array([6,0])\n",
        "tmp2 =np.array([7,0])\n",
        "tmp3 =np.array([8,0])\n",
        "tmp4 =np.array([9,0])\n",
        "tmp5 =np.array([10,0])\n",
        "tmp6 =np.array([15,0])\n",
        "tmp = np.array([tmp1, tmp2, tmp3, tmp4, tmp5, tmp6])\n",
        "\n",
        "# 한 점에서 x축으로 이어진 점들을 본다\n",
        "x_left = True\n",
        "x_left_idx = base[0]-1\n",
        "x_right = True\n",
        "x_right_idx = base[0]\n",
        "\n",
        "# x_list = list()\n",
        "x_list = np.array( [base] )\n",
        "\n",
        "while x_left:\n",
        "  # print(x_left_idx)\n",
        "\n",
        "  n = np.where( (tmp[:,1] == base[1]) & (tmp[:,0] == x_left_idx) )\n",
        "  print(n[0])\n",
        "  if len(n[0]) == 1:\n",
        "    # print(\"in\")\n",
        "    x_left_idx -= 1\n",
        "    x_list = np.append(x_list, tmp[n[0]], axis=0)\n",
        "    tmp = np.delete(tmp, [n[0]], 0)\n",
        "  else:\n",
        "    x_left = False\n",
        "while x_right:\n",
        "  # print(x_right_idx)\n",
        "  n = np.where( (tmp[:,1] == base[1]) & (tmp[:,0] == x_right_idx) )\n",
        "  # print(n)\n",
        "  if len(n[0]) == 1:\n",
        "    x_right_idx += 1\n",
        "    x_list = np.append(x_list, tmp[n[0]], axis=0)\n",
        "    tmp = np.delete(tmp, [n[0]], 0)\n",
        "  else:\n",
        "    x_right = False\n",
        "\n",
        "print(x_list)\n",
        "print(tmp)"
      ],
      "execution_count": 0,
      "outputs": [
        {
          "output_type": "stream",
          "text": [
            "[1]\n",
            "[0]\n",
            "[]\n",
            "[[ 8  0]\n",
            " [ 7  0]\n",
            " [ 6  0]\n",
            " [ 8  0]\n",
            " [ 9  0]\n",
            " [10  0]]\n",
            "[[15  0]]\n"
          ],
          "name": "stdout"
        }
      ]
    },
    {
      "cell_type": "code",
      "metadata": {
        "id": "eANjEd4cY1OP",
        "colab_type": "code",
        "outputId": "2432c1ba-2dd4-40f8-9a1d-08fc8f4d0a6d",
        "colab": {
          "base_uri": "https://localhost:8080/",
          "height": 863
        }
      },
      "source": [
        "# clean ver\n",
        "def find_close_x(ori_data, base_x_list, y):\n",
        "  if len(base_x_list) > 1:\n",
        "    for x in base_x_list:\n",
        "      n = np.where( (ori_data[:,1] == y) & (ori_data[:,0] == x)  )\n",
        "      if len(n[0]) == 1:\n",
        "        base_x = ori_data[n[0]]\n",
        "        break\n",
        "    base = np.array([base_x[0][0], y])\n",
        "\n",
        "  # OK, 위에거 해결하면 된다.\n",
        "  \n",
        "  else: # base_x_list => 1개\n",
        "    base = np.array([base_x_list[0], y])\n",
        "    # print(\"asd\")\n",
        "\n",
        "  print(base)\n",
        "  x_left = True\n",
        "  x_right = True\n",
        "  x_left_idx = base[0]-1\n",
        "  x_right_idx = base[0]+1\n",
        "  # print(x_left_idx)\n",
        "  # print(x_right_idx)\n",
        "\n",
        "  result_list = np.array([base])\n",
        "  n = np.where( (ori_data[:,1] == y) & (ori_data[:,0] == base[0]) )\n",
        "  ori_data = np.delete(ori_data, n[0], 0)\n",
        "  # print(result_list)\n",
        "\n",
        "  while x_left:\n",
        "    n = np.where( (ori_data[:,1] == y) & (ori_data[:,0] == x_left_idx) )\n",
        "    if len(n[0]) == 1:\n",
        "      x_left_idx -= 1\n",
        "      result_list = np.append(result_list, tmp[n[0]], axis=0)\n",
        "      ori_data = np.delete(ori_data, n[0], 0)\n",
        "    else:\n",
        "      x_left = False\n",
        "    \n",
        "  while x_right:\n",
        "    n = np.where( (ori_data[:,1] == y) & (ori_data[:,0] == x_right_idx) )\n",
        "    if len(n[0]) == 1:\n",
        "      x_right_idx += 1\n",
        "      result_list = np.append(result_list, tmp[n[0]], axis=0)\n",
        "      ori_data = np.delete(ori_data, n[0], 0)\n",
        "    else:\n",
        "      x_right = False\n",
        "  \n",
        "  x_list = result_list[:,0]\n",
        "  \n",
        "  return result_list,x_list, ori_data\n",
        "  # return result_list,x_list\n",
        "\n",
        "find_close_x(ori_data, find_base(ori_data)[0], find_base(ori_data)[1])\n",
        "# find_close_x(tmp, np.array([1,3,5,8]), find_base(ori_data)[1])\n",
        "# find_close_x(tmp, np.array([8]), find_base(ori_data)[1])\n",
        "# find_close_x(tmp, np.array([1,2,3,4,5,6,7,8,9]), find_base(ori_data)[1])\n",
        "# find_close_x(ori_data, np.array([1,2,3,4,5,6,7,8,9]), find_base(ori_data)[1])"
      ],
      "execution_count": 0,
      "outputs": [
        {
          "output_type": "stream",
          "text": [
            "[8 0]\n"
          ],
          "name": "stdout"
        },
        {
          "output_type": "execute_result",
          "data": {
            "text/plain": [
              "(array([[8, 0]]), array([8]), array([[  0,   9],\n",
              "        [  1,   9],\n",
              "        [  2,   9],\n",
              "        [  0,   8],\n",
              "        [  2,   8],\n",
              "        [ -1,   7],\n",
              "        [  2,   7],\n",
              "        [ -2,   6],\n",
              "        [  3,   6],\n",
              "        [ -3,   5],\n",
              "        [  4,   5],\n",
              "        [  5,   5],\n",
              "        [ -4,   4],\n",
              "        [  6,   4],\n",
              "        [ -4,   3],\n",
              "        [  6,   3],\n",
              "        [ -5,   2],\n",
              "        [  7,   2],\n",
              "        [ -5,   1],\n",
              "        [  8,   1],\n",
              "        [ -5,   0],\n",
              "        [ -5,  -1],\n",
              "        [  9,  -1],\n",
              "        [ -6,  -2],\n",
              "        [  8,  -2],\n",
              "        [ -6,  -3],\n",
              "        [  8,  -3],\n",
              "        [ -6,  -4],\n",
              "        [  7,  -4],\n",
              "        [ -6,  -5],\n",
              "        [  7,  -5],\n",
              "        [ -6,  -6],\n",
              "        [  6,  -6],\n",
              "        [ -5,  -7],\n",
              "        [  5,  -7],\n",
              "        [  6,  -7],\n",
              "        [ -5,  -8],\n",
              "        [  3,  -8],\n",
              "        [  4,  -8],\n",
              "        [ -4,  -9],\n",
              "        [ -3,  -9],\n",
              "        [  1,  -9],\n",
              "        [  2,  -9],\n",
              "        [ -2, -10],\n",
              "        [ -1, -10],\n",
              "        [  0, -10]]))"
            ]
          },
          "metadata": {
            "tags": []
          },
          "execution_count": 270
        }
      ]
    },
    {
      "cell_type": "code",
      "metadata": {
        "colab_type": "code",
        "id": "MA3Bi2ZaytiD",
        "outputId": "b07b8323-baa4-4c58-853e-d60d62d32a09",
        "colab": {
          "base_uri": "https://localhost:8080/",
          "height": 89
        }
      },
      "source": [
        "a = np.array([1,2,3,4])\n",
        "for i in a:\n",
        "  print(i)"
      ],
      "execution_count": 0,
      "outputs": [
        {
          "output_type": "stream",
          "text": [
            "1\n",
            "2\n",
            "3\n",
            "4\n"
          ],
          "name": "stdout"
        }
      ]
    },
    {
      "cell_type": "code",
      "metadata": {
        "id": "WVyPJPuX2btY",
        "colab_type": "code",
        "colab": {}
      },
      "source": [
        ""
      ],
      "execution_count": 0,
      "outputs": []
    },
    {
      "cell_type": "code",
      "metadata": {
        "id": "8vI2c4b6x9M3",
        "colab_type": "code",
        "colab": {}
      },
      "source": [
        "def change_y():\n",
        "  "
      ],
      "execution_count": 0,
      "outputs": []
    },
    {
      "cell_type": "code",
      "metadata": {
        "colab_type": "code",
        "id": "XttcUiBdx9yd",
        "colab": {}
      },
      "source": [
        ""
      ],
      "execution_count": 0,
      "outputs": []
    },
    {
      "cell_type": "code",
      "metadata": {
        "colab_type": "code",
        "id": "F5DGU1YWx91A",
        "colab": {}
      },
      "source": [
        ""
      ],
      "execution_count": 0,
      "outputs": []
    },
    {
      "cell_type": "code",
      "metadata": {
        "colab_type": "code",
        "id": "ZkVbAunmx93M",
        "colab": {}
      },
      "source": [
        ""
      ],
      "execution_count": 0,
      "outputs": []
    },
    {
      "cell_type": "code",
      "metadata": {
        "colab_type": "code",
        "id": "dcw-fi5Rx95c",
        "colab": {}
      },
      "source": [
        ""
      ],
      "execution_count": 0,
      "outputs": []
    },
    {
      "cell_type": "code",
      "metadata": {
        "id": "ea6Lq_aDe9y8",
        "colab_type": "code",
        "outputId": "b45d5b63-bee5-4651-ebfa-508ec2fed559",
        "colab": {
          "base_uri": "https://localhost:8080/",
          "height": 35
        }
      },
      "source": [
        "type(tmp)"
      ],
      "execution_count": 0,
      "outputs": [
        {
          "output_type": "execute_result",
          "data": {
            "text/plain": [
              "numpy.ndarray"
            ]
          },
          "metadata": {
            "tags": []
          },
          "execution_count": 80
        }
      ]
    },
    {
      "cell_type": "code",
      "metadata": {
        "id": "mFvOss2ugZTU",
        "colab_type": "code",
        "outputId": "c270a0ed-2af6-43ca-9cf5-283d49ef9ab6",
        "colab": {
          "base_uri": "https://localhost:8080/",
          "height": 35
        }
      },
      "source": [
        "np.where( (tmp[:,1] == base[1]) & (tmp[:,0] == 8) )[0]"
      ],
      "execution_count": 0,
      "outputs": [
        {
          "output_type": "execute_result",
          "data": {
            "text/plain": [
              "array([21])"
            ]
          },
          "metadata": {
            "tags": []
          },
          "execution_count": 96
        }
      ]
    },
    {
      "cell_type": "code",
      "metadata": {
        "id": "GVFy-cvNhxgd",
        "colab_type": "code",
        "outputId": "ae1fe65a-6a64-45ac-8992-ae5028177d9a",
        "colab": {
          "base_uri": "https://localhost:8080/",
          "height": 35
        }
      },
      "source": [
        "tmp[21]"
      ],
      "execution_count": 0,
      "outputs": [
        {
          "output_type": "execute_result",
          "data": {
            "text/plain": [
              "array([8, 0])"
            ]
          },
          "metadata": {
            "tags": []
          },
          "execution_count": 87
        }
      ]
    },
    {
      "cell_type": "code",
      "metadata": {
        "id": "m_33qfc_iBeC",
        "colab_type": "code",
        "outputId": "a3f0107d-ccd5-45d5-9208-eb34ca28fafe",
        "colab": {
          "base_uri": "https://localhost:8080/",
          "height": 35
        }
      },
      "source": [
        "tmp[21]"
      ],
      "execution_count": 0,
      "outputs": [
        {
          "output_type": "execute_result",
          "data": {
            "text/plain": [
              "array([8, 0])"
            ]
          },
          "metadata": {
            "tags": []
          },
          "execution_count": 97
        }
      ]
    },
    {
      "cell_type": "code",
      "metadata": {
        "id": "tOakNhgnkNeD",
        "colab_type": "code",
        "outputId": "8494dee4-142b-45a7-ca3d-63656952b9f2",
        "colab": {
          "base_uri": "https://localhost:8080/",
          "height": 35
        }
      },
      "source": [
        "n = np.where( (tmp[:,1] == base[1]) & (tmp[:,0] == 8) )\n",
        "tmp[n[0]]"
      ],
      "execution_count": 0,
      "outputs": [
        {
          "output_type": "execute_result",
          "data": {
            "text/plain": [
              "array([[8, 0]])"
            ]
          },
          "metadata": {
            "tags": []
          },
          "execution_count": 117
        }
      ]
    },
    {
      "cell_type": "code",
      "metadata": {
        "id": "aJ6YxOLyiwBT",
        "colab_type": "code",
        "outputId": "5c359c65-f767-4f9f-98eb-09c438d22edc",
        "colab": {
          "base_uri": "https://localhost:8080/",
          "height": 91
        }
      },
      "source": [
        "n = np.where( (tmp[:,1] == base[1]) & (tmp[:,0] == 9) )\n",
        "# tmp[n]\n",
        "if n[0]:\n",
        "  print(\"asd\")\n",
        "else:\n",
        "  print(\"qwe\")"
      ],
      "execution_count": 0,
      "outputs": [
        {
          "output_type": "stream",
          "text": [
            "qwe\n"
          ],
          "name": "stdout"
        },
        {
          "output_type": "stream",
          "text": [
            "/usr/local/lib/python3.6/dist-packages/ipykernel_launcher.py:3: DeprecationWarning: The truth value of an empty array is ambiguous. Returning False, but in future this will result in an error. Use `array.size > 0` to check that an array is not empty.\n",
            "  This is separate from the ipykernel package so we can avoid doing imports until\n"
          ],
          "name": "stderr"
        }
      ]
    },
    {
      "cell_type": "code",
      "metadata": {
        "id": "jrfNUbU8kd8t",
        "colab_type": "code",
        "outputId": "0e9ce3af-2fd8-4f10-a7e0-45471fcc7295",
        "colab": {
          "base_uri": "https://localhost:8080/",
          "height": 35
        }
      },
      "source": [
        "\n",
        "tmp1 =np.array([6,0])\n",
        "tmp2 =np.array([7,0])\n",
        "tmp3 =np.array([8,0])\n",
        "tmp4 =np.array([9,0])\n",
        "tmp5 =np.array([10,0])\n",
        "tmp6 =np.array([15,0])\n",
        "tmp = np.array([tmp1, tmp2, tmp3, tmp4, tmp5,tmp6])\n",
        "tmp\n",
        "\n",
        "n = np.where( (tmp[:,1] == base[1]) & (tmp[:,0] == 2) )\n",
        "len(n[0])\n",
        "# print(n)\n",
        "# tmp[n[0]]\n",
        "\n",
        "\n",
        "# tmp = np.delete(tmp, 3, 0)\n",
        "# tmp"
      ],
      "execution_count": 0,
      "outputs": [
        {
          "output_type": "execute_result",
          "data": {
            "text/plain": [
              "0"
            ]
          },
          "metadata": {
            "tags": []
          },
          "execution_count": 236
        }
      ]
    },
    {
      "cell_type": "code",
      "metadata": {
        "id": "MKmY394wlpTJ",
        "colab_type": "code",
        "outputId": "10d99f4c-bc4c-444c-f651-6fef039f277e",
        "colab": {
          "base_uri": "https://localhost:8080/",
          "height": 35
        }
      },
      "source": [
        "\n",
        "\n",
        "x_list = np.array( [base] )\n",
        "x_list\n",
        "x_list = np.append(x_list, [base], axis=0)\n",
        "x_list.shape\n",
        "\n",
        "x_list = np.append(x_list, [base], axis=0)\n",
        "x_list.shape\n",
        "x_list = np.append(x_list, [base], axis=0)\n",
        "x_list.shape\n",
        "x_list = np.append(x_list, [base], axis=0)\n",
        "x_list.shape\n",
        "len(x_list)"
      ],
      "execution_count": 0,
      "outputs": [
        {
          "output_type": "execute_result",
          "data": {
            "text/plain": [
              "5"
            ]
          },
          "metadata": {
            "tags": []
          },
          "execution_count": 206
        }
      ]
    },
    {
      "cell_type": "code",
      "metadata": {
        "id": "cfzhFV3_wIAa",
        "colab_type": "code",
        "outputId": "cb144b21-f945-447d-8eaf-6555248fc529",
        "colab": {
          "base_uri": "https://localhost:8080/",
          "height": 35
        }
      },
      "source": [
        "type(base)"
      ],
      "execution_count": 0,
      "outputs": [
        {
          "output_type": "execute_result",
          "data": {
            "text/plain": [
              "numpy.ndarray"
            ]
          },
          "metadata": {
            "tags": []
          },
          "execution_count": 190
        }
      ]
    },
    {
      "cell_type": "code",
      "metadata": {
        "id": "I204EppuwShg",
        "colab_type": "code",
        "colab": {}
      },
      "source": [
        ""
      ],
      "execution_count": 0,
      "outputs": []
    }
  ]
}