{
 "cells": [
  {
   "cell_type": "markdown",
   "metadata": {},
   "source": [
    "# 프로젝트 목표\n",
    "- normal, broken, insect, black 이미지 회전해서 1장당 5장씩 만들기\n",
    "- 소스 이미지로는 sec_processed_data 디렉토리의 이미지들로 사용"
   ]
  },
  {
   "cell_type": "markdown",
   "metadata": {},
   "source": [
    "# 모듈가져오기"
   ]
  },
  {
   "cell_type": "code",
   "execution_count": 2,
   "metadata": {},
   "outputs": [],
   "source": [
    "from PIL import Image\n",
    "import numpy as np\n",
    "import matplotlib.pyplot as plt\n",
    "import cv2\n",
    "import os\n",
    "import torch\n",
    "import glob\n",
    "import torchgeometry as tgm\n",
    "\n",
    "# 필요한 모듈 가져오기\n",
    "from matplotlib import pyplot as plt\n",
    "from mpl_toolkits.mplot3d import Axes3D\n",
    "import pylab\n",
    "plt.rcParams['figure.figsize'] = 10, 10\n",
    "import plotly.offline as py\n",
    "import plotly.graph_objs as go\n",
    "%matplotlib inline"
   ]
  },
  {
   "cell_type": "markdown",
   "metadata": {},
   "source": [
    "# 함수가져오기"
   ]
  },
  {
   "cell_type": "code",
   "execution_count": null,
   "metadata": {},
   "outputs": [],
   "source": []
  },
  {
   "cell_type": "markdown",
   "metadata": {},
   "source": [
    "# 데이터 불러오기\n",
    "- 2차 처리된 데이터"
   ]
  },
  {
   "cell_type": "code",
   "execution_count": 3,
   "metadata": {},
   "outputs": [],
   "source": [
    "# 이미지 불러오기\n",
    "img_list = list()\n",
    "for take_num in range(0,14):\n",
    "    take_list = list()\n",
    "    for file_num in range(121):\n",
    "        path = '.\\\\data\\\\normal_data\\\\normal_sec_processed_data\\\\20200518_' + str(file_num) + '_normal_take' + str(take_num) + '_final.jpg'\n",
    "        img = np.array(Image.open(path))\n",
    "        take_list.append(img)\n",
    "    img_list.append(take_list)\n",
    "# print(len(img_list))\n",
    "# print(len(img_list[1]))"
   ]
  },
  {
   "cell_type": "code",
   "execution_count": 4,
   "metadata": {},
   "outputs": [
    {
     "output_type": "stream",
     "name": "stdout",
     "text": "14\n121\n(64, 64, 3)\n"
    }
   ],
   "source": [
    "# 데이터 확인\n",
    "print(len(img_list))\n",
    "print(len(img_list[1]))\n",
    "print(img_list[1][0].shape)"
   ]
  },
  {
   "cell_type": "code",
   "execution_count": 21,
   "metadata": {},
   "outputs": [],
   "source": [
    "# angle \n",
    "angle_list = [45, 90 , 135, 180, 225, 270, 315]\n",
    "angle = angle_list[6]\n",
    "for take_num in range(14):\n",
    "    for file_num in range(121):    \n",
    "    \n",
    "        src = img_list[take_num][file_num]\n",
    "        height, width, channel = src.shape\n",
    "\n",
    "        # matrix에 회전 array를 생성\n",
    "        # cv2.getRotationMatrix2D((중심점 X좌표, 중심점 Y좌표), 각도, 스케일)을 설정\n",
    "        matrix = cv2.getRotationMatrix2D((width/2, height/2), angle , 1)\n",
    "        # print(type(matrix)) => <class 'numpy.ndarray'>\n",
    "\n",
    "        # cv2.warpAffine(원본 이미지, 배열, (결과 이미지 너비, 결과 이미지 높이))을 의미\n",
    "        img_rotated = cv2.warpAffine(src, matrix, (width, height))\n",
    "        # print(type(dst)) => <class 'numpy.ndarray'>\n",
    "\n",
    "        save_path = '.\\\\data\\\\broken_data\\\\broken_rotated_data\\\\20200520_' + str(file_num) + '_broken_take' + str(take_num + 1) + '_final'  + '_' + str(angle) + '.jpg'\n",
    "        Image.fromarray(img_rotated).save(save_path)"
   ]
  },
  {
   "cell_type": "code",
   "execution_count": null,
   "metadata": {},
   "outputs": [],
   "source": [
    "img_list"
   ]
  }
 ],
 "metadata": {
  "language_info": {
   "codemirror_mode": {
    "name": "ipython",
    "version": 3
   },
   "file_extension": ".py",
   "mimetype": "text/x-python",
   "name": "python",
   "nbconvert_exporter": "python",
   "pygments_lexer": "ipython3",
   "version": "3.7.7-final"
  },
  "orig_nbformat": 2,
  "kernelspec": {
   "name": "python37764bitopencvcondabf44520d930d455aacc62bcc8633bb49",
   "display_name": "Python 3.7.7 64-bit ('opencv': conda)"
  }
 },
 "nbformat": 4,
 "nbformat_minor": 2
}