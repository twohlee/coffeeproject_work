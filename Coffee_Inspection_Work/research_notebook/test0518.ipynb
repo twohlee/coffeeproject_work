{
 "cells": [
  {
   "cell_type": "code",
   "execution_count": 3,
   "metadata": {},
   "outputs": [
    {
     "output_type": "stream",
     "name": "stdout",
     "text": "Collecting pymongoNote: you may need to restart the kernel to use updated packages.\n  Using cached pymongo-3.10.1-cp37-cp37m-win_amd64.whl (354 kB)\nInstalling collected packages: pymongo\nSuccessfully installed pymongo-3.10.1\n\n"
    }
   ],
   "source": [
    "# pymongo 패키지 설치 \n",
    "pip install pymongo"
   ]
  },
  {
   "cell_type": "code",
   "execution_count": 1,
   "metadata": {},
   "outputs": [],
   "source": [
    "import pymongo"
   ]
  },
  {
   "cell_type": "code",
   "execution_count": 2,
   "metadata": {},
   "outputs": [],
   "source": [
    "# MongoClient를 이용해서 몽고디비에 연결 \n",
    "from pymongo import MongoClient\n",
    "client = MongoClient('127.0.0.1', 27017)"
   ]
  },
  {
   "cell_type": "code",
   "execution_count": 7,
   "metadata": {},
   "outputs": [],
   "source": [
    "# # URI 형식으로 데이터베이스 주소 설정 가능 \n",
    "# client = MongoClient('mongodb://127.0.0.1:27017')\n",
    "# MongoClient(host = ['127.0.0.1:27017'], document_class = dict, tz_aware=False, connect = True)\n"
   ]
  },
  {
   "cell_type": "code",
   "execution_count": 8,
   "metadata": {},
   "outputs": [],
   "source": [
    "# 데이터베이스 및 컬렉션 접근 \n",
    "# 하나의 MongoClient 인스턴스로 여러개의 데이터베이스에 접근 할 수 있다. \n",
    "# addressBook 데이터베이스에 접근\n",
    "# 접근하는 두가지 방법 \n",
    "db = client.addressBook \n",
    "# db = client['addressBook']"
   ]
  },
  {
   "cell_type": "code",
   "execution_count": 9,
   "metadata": {},
   "outputs": [],
   "source": [
    "# addressBook 데이터베이스에 컬렉션 만들기 \n",
    "collection = db.office\n",
    "# collection = db['office']"
   ]
  },
  {
   "cell_type": "code",
   "execution_count": 20,
   "metadata": {},
   "outputs": [],
   "source": [
    "# 문서 저장 \n",
    "# 몽고디비는 json 스타일의 문서를 저장함 \n",
    "# pymongo는 딕셔너리 형태의 데이터를 저장함 \n",
    "import datetime \n",
    "post = {\"author\":\"Mike\",\n",
    "\"text\":\"My first blog post!\",\n",
    "\"tags\": [\"mongodb\", \"python\", \"pymongo\"],\n",
    "\"date\":datetime.datetime.utcnow()}"
   ]
  },
  {
   "cell_type": "code",
   "execution_count": 25,
   "metadata": {},
   "outputs": [],
   "source": [
    "# json 타입의 문자열을 파이썬 타입(딕셔너리)으로 변환해서 저장하는 예제 \n",
    "\n",
    "import pymongo\n",
    "import json\n",
    "import datetime\n",
    "from pymongo import MongoClient\n",
    "\n",
    "client = MongoClient('127.0.0.1', 27017)\n",
    "# client = MongoClient(\"localhost\", 27017)\n",
    "db = client.nlu\n",
    "db.logging\n",
    "\n",
    "mydata = \"\"\"\n",
    "{\"name\":\"yundream\", \"age\" : 35}\n",
    "\"\"\"\n",
    "\n",
    "d = json.loads(mydata)\n",
    "d['date'] = datetime.datetime.utcnow()\n",
    "\n",
    "postid = db.logging.insert_one(d).inserted_id\n"
   ]
  },
  {
   "cell_type": "code",
   "execution_count": 26,
   "metadata": {},
   "outputs": [
    {
     "output_type": "error",
     "ename": "TypeError",
     "evalue": "'Collection' object is not callable. If you meant to call the 'fine_one' method on a 'Collection' object it is failing because no such method exists.",
     "traceback": [
      "\u001b[1;31m---------------------------------------------------------------------------\u001b[0m",
      "\u001b[1;31mTypeError\u001b[0m                                 Traceback (most recent call last)",
      "\u001b[1;32m<ipython-input-26-17f27153e860>\u001b[0m in \u001b[0;36m<module>\u001b[1;34m\u001b[0m\n\u001b[0;32m      6\u001b[0m \u001b[0mclient\u001b[0m \u001b[1;33m=\u001b[0m \u001b[0mMongoClient\u001b[0m\u001b[1;33m(\u001b[0m\u001b[1;34m\"127.0.0.1\"\u001b[0m\u001b[1;33m,\u001b[0m \u001b[1;36m27017\u001b[0m\u001b[1;33m)\u001b[0m\u001b[1;33m\u001b[0m\u001b[1;33m\u001b[0m\u001b[0m\n\u001b[0;32m      7\u001b[0m \u001b[0mdb\u001b[0m \u001b[1;33m=\u001b[0m \u001b[0mclient\u001b[0m\u001b[1;33m.\u001b[0m\u001b[0mnlu\u001b[0m\u001b[1;33m\u001b[0m\u001b[1;33m\u001b[0m\u001b[0m\n\u001b[1;32m----> 8\u001b[1;33m \u001b[0mpprint\u001b[0m\u001b[1;33m.\u001b[0m\u001b[0mpprint\u001b[0m\u001b[1;33m(\u001b[0m\u001b[0mdb\u001b[0m\u001b[1;33m.\u001b[0m\u001b[0mlogging\u001b[0m\u001b[1;33m.\u001b[0m\u001b[0mfine_one\u001b[0m\u001b[1;33m(\u001b[0m\u001b[1;33m)\u001b[0m\u001b[1;33m)\u001b[0m\u001b[1;33m\u001b[0m\u001b[1;33m\u001b[0m\u001b[0m\n\u001b[0m",
      "\u001b[1;32m~\\Anaconda3\\envs\\project_opencv\\lib\\site-packages\\pymongo\\collection.py\u001b[0m in \u001b[0;36m__call__\u001b[1;34m(self, *args, **kwargs)\u001b[0m\n\u001b[0;32m   3341\u001b[0m                         \u001b[1;34m\"call the '%s' method on a 'Collection' object it is \"\u001b[0m\u001b[1;33m\u001b[0m\u001b[1;33m\u001b[0m\u001b[0m\n\u001b[0;32m   3342\u001b[0m                         \u001b[1;34m\"failing because no such method exists.\"\u001b[0m \u001b[1;33m%\u001b[0m\u001b[1;33m\u001b[0m\u001b[1;33m\u001b[0m\u001b[0m\n\u001b[1;32m-> 3343\u001b[1;33m                         self.__name.split(\".\")[-1])\n\u001b[0m",
      "\u001b[1;31mTypeError\u001b[0m: 'Collection' object is not callable. If you meant to call the 'fine_one' method on a 'Collection' object it is failing because no such method exists."
     ]
    }
   ],
   "source": [
    "# find_one()으로 문서 하나 가져오기 \n",
    "import pymongo\n",
    "import pprint\n",
    "from pymongo import MongoClient\n",
    "\n",
    "client = MongoClient(\"127.0.0.1\", 27017)\n",
    "db = client.nlu\n",
    "pprint.pprint(db.logging.fine_one())"
   ]
  },
  {
   "cell_type": "code",
   "execution_count": null,
   "metadata": {},
   "outputs": [],
   "source": []
  },
  {
   "cell_type": "code",
   "execution_count": 28,
   "metadata": {},
   "outputs": [
    {
     "output_type": "stream",
     "name": "stdout",
     "text": "{'_id': ObjectId('5ec244686f8a054e33e895a9'),\n 'age': 35,\n 'date': datetime.datetime(2020, 5, 18, 8, 16, 40, 721000),\n 'name': 'yundream'}\n"
    }
   ],
   "source": [
    "# 매개변수로 가져오기 \n",
    "pprint.pprint(db.logging.find_one({\"name\":\"yundream\"}))"
   ]
  },
  {
   "cell_type": "code",
   "execution_count": 31,
   "metadata": {},
   "outputs": [
    {
     "output_type": "stream",
     "name": "stdout",
     "text": "None\n"
    }
   ],
   "source": [
    "# Object_ID로 가져오기 \n",
    "print(db.logging.find_one({\"_id\": \"5ec244686f8a054e33e895a9\"}))"
   ]
  },
  {
   "cell_type": "code",
   "execution_count": 32,
   "metadata": {},
   "outputs": [
    {
     "output_type": "stream",
     "name": "stdout",
     "text": "{'_id': ObjectId('5ec244686f8a054e33e895a9'),\n 'age': 35,\n 'date': datetime.datetime(2020, 5, 18, 8, 16, 40, 721000),\n 'name': 'yundream'}\n{'_id': ObjectId('5ec245186f8a054e33e895ad'),\n 'age': 35,\n 'date': datetime.datetime(2020, 5, 18, 8, 19, 36, 266000),\n 'name': 'yundream'}\n{'_id': ObjectId('5ec2451e6f8a054e33e895af'),\n 'age': 35,\n 'date': datetime.datetime(2020, 5, 18, 8, 19, 42, 377000),\n 'name': 'yundream'}\n"
    }
   ],
   "source": [
    "# 하나 이상의 문서는 find()\n",
    "for log in db.logging.find():\n",
    "    pprint.pprint(log)"
   ]
  },
  {
   "cell_type": "code",
   "execution_count": 3,
   "metadata": {},
   "outputs": [],
   "source": [
    "img_file = open('./OpenCV/data/20200508_test1_sample1.jpg', 'rb')\n",
    "\n"
   ]
  },
  {
   "cell_type": "code",
   "execution_count": 6,
   "metadata": {},
   "outputs": [],
   "source": [
    "#######################################"
   ]
  },
  {
   "cell_type": "code",
   "execution_count": 4,
   "metadata": {},
   "outputs": [],
   "source": [
    "import pymongo\n",
    "import gridfs \n",
    "from pymongo import MongoClient"
   ]
  },
  {
   "cell_type": "code",
   "execution_count": 15,
   "metadata": {},
   "outputs": [],
   "source": [
    "# 참고 사이트 \n",
    "# https://hubpages.com/technology/Storing-large-objects-in-MongoDB-using-Python\n",
    "if __name__ == '__main__' :\n",
    "    # read in the image \n",
    "    filename = './OpenCV/data/20200508_test1_sample1.jpg'\n",
    "    datafile = open(filename,\"rb\")\n",
    "    thedata = datafile.read()\n",
    "\n",
    "    # connect to database \n",
    "\n",
    "    \n",
    "    client = MongoClient('127.0.0.1', 27017)\n",
    "    \n",
    "    #connection = pymongo.Connection(\"localhost\", 27017)\n",
    "    database = client['example']\n",
    "\n",
    "    # create a new gridfs object\n",
    "    fs = gridfs.GridFS(database)\n",
    "\n",
    "    # store the data in the database. Returns the id of the file in gridFS \n",
    "    stored = fs.put(thedata, filename = 'testimage')\n",
    "\n",
    "    # retrieve what was just stored \n",
    "    #outputdata = fs.get(stored).read()\n",
    "\n",
    "    # create an output file and store the image in the output file \n",
    "    # outfilename = './OpenCV/data/20200508_test1_sample1.jpg'\n",
    "    # output = open(outfilename, 'wb')\n",
    "    # output.write(outputdata)\n",
    "    # # close the output file \n",
    "    # output.close()\n",
    "\n",
    "    # for experimental code restore to known state and close connection \n",
    "\n",
    "    #fs.delete(stored)\n",
    "    #client.drop_database('example')\n",
    "    client.close()"
   ]
  },
  {
   "cell_type": "code",
   "execution_count": 5,
   "metadata": {},
   "outputs": [],
   "source": [
    "import os "
   ]
  },
  {
   "cell_type": "code",
   "execution_count": 8,
   "metadata": {},
   "outputs": [],
   "source": [
    "groups_folder_path = './normal_data'\n",
    "categories = [\"normal_align_test_image\", \"normal_processed_data\", \"normal_raw_data\" ] # 해당 이미지들이 들어가 있는 폴더명 넣어주기 \n"
   ]
  },
  {
   "cell_type": "code",
   "execution_count": 9,
   "metadata": {},
   "outputs": [],
   "source": [
    "# mongodb에 normal_data 사진 넣어주기 \n",
    "# category 나눠서 들어갈 수 있도록 하기 \n",
    "\n",
    "\n",
    "\n",
    "if __name__ == '__main__' :\n",
    "    \n",
    "    # connect to database \n",
    "    client = MongoClient('127.0.0.1', 27017)\n",
    "\n",
    "    \n",
    "\n",
    "\n",
    "    # read in the image \n",
    "\n",
    "    for i,d in enumerate(categories):\n",
    "        files = os.listdir(groups_folder_path + '/'+ d)\n",
    "        database = client[d]\n",
    "\n",
    "        # create a new gridfs object\n",
    "        fs = gridfs.GridFS(database)\n",
    "\n",
    "        for f in files : \n",
    "            img = open(groups_folder_path + '/'+ d +'/' + f, 'rb')\n",
    "            thedata = img.read()\n",
    "            # store the data in the database. \n",
    "            # Returns the id of the file in gridFS \n",
    "            stored = fs.put(thedata, filename = f)\n",
    "\n",
    "    \n",
    "    \n",
    "    \n",
    "\n",
    "\n",
    "\n",
    "    # retrieve what was just stored \n",
    "    #outputdata = fs.get(stored).read()\n",
    "\n",
    "    # create an output file and store the image in the output file \n",
    "    # outfilename = './OpenCV/data/20200508_test1_sample1.jpg'\n",
    "    # output = open(outfilename, 'wb')\n",
    "    # output.write(outputdata)\n",
    "    # # close the output file \n",
    "    # output.close()\n",
    "\n",
    "    # for experimental code restore to known state and close connection \n",
    "\n",
    "    #fs.delete(stored)\n",
    "    #client.drop_database('example')\n",
    "    client.close()"
   ]
  },
  {
   "cell_type": "code",
   "execution_count": null,
   "metadata": {},
   "outputs": [],
   "source": []
  }
 ],
 "metadata": {
  "language_info": {
   "codemirror_mode": {
    "name": "ipython",
    "version": 3
   },
   "file_extension": ".py",
   "mimetype": "text/x-python",
   "name": "python",
   "nbconvert_exporter": "python",
   "pygments_lexer": "ipython3",
   "version": "3.7.7-final"
  },
  "orig_nbformat": 2,
  "kernelspec": {
   "name": "python37764bitprojectopencvconda6fc4edbc446e42ca82ff567e09c1586a",
   "display_name": "Python 3.7.7 64-bit ('project_opencv': conda)"
  }
 },
 "nbformat": 4,
 "nbformat_minor": 2
}