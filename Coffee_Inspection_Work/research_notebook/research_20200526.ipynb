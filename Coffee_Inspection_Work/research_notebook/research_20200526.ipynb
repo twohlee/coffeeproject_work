{
 "cells": [
  {
   "cell_type": "markdown",
   "metadata": {},
   "source": [
    "# 서비스 모델\n",
    "- 1. 카메라로 이미지 촬영(있다고 가정)\n",
    "- 2. ROI(Region of Interest)만 자르기\n",
    "- 3. objectDetection함수 처리 (input = take이미지파일, output = 64 * 64 생두객체 이미지 리스트)\n",
    "===========================현재 완료==================================================\n",
    "- 4. 전처리 멀티프로세싱과 세컨드 프로세싱에서 함수가져오기\n",
    "    - second_preprocessing.ipynb에서 imgPreprocessing 함수 처리하기(input = 64 * 64 생두이미지, thres값, output = 전처리 된 64 * 64 이미지)"
   ]
  },
  {
   "cell_type": "code",
   "execution_count": 2,
   "metadata": {},
   "outputs": [],
   "source": [
    " # 필요한 모듈 불러오기\n",
    "from PIL import Image\n",
    "import numpy as np\n",
    "import matplotlib.pyplot as plt\n",
    "import cv2\n",
    "import os\n",
    "import torch\n",
    "\n",
    "# 필요한 모듈 가져오기\n",
    "from matplotlib import pyplot as plt\n",
    "from mpl_toolkits.mplot3d import Axes3D\n",
    "import pylab\n",
    "plt.rcParams['figure.figsize'] = 10, 10\n",
    "import plotly.offline as py\n",
    "import plotly.graph_objs as go\n",
    "%matplotlib inline\n",
    "import glob"
   ]
  },
  {
   "cell_type": "code",
   "execution_count": 7,
   "metadata": {},
   "outputs": [],
   "source": [
    "# 데이터 로드\n",
    "src_path = '/Users/gabriel8452/Desktop/coffeebean_project/Coffee_Inspection_preprocessing/data/normal_data/real_data_normal/20200518_take1.jpg'\n",
    "img = Image.open(src_path)\n",
    "\n",
    "\n",
    "def multi_objectDetection(img):\n",
    "    img_color = np.array(img)\n",
    "    img = np.array(img.convert('L'))\n",
    "\n",
    "    img_color_ROI = img_color[733:1437,710:1414]\n",
    "    img_ROI = img[733:1437,710:1414]\n",
    "    \n",
    "\n",
    "    # 데이터 이진화\n",
    "    _, src_bin = cv2.threshold(img_ROI, 180, 255, cv2.THRESH_BINARY)\n",
    "    src_bin = cv2.bitwise_not(src_bin)\n",
    "\n",
    "    # 데이터 처리\n",
    "    img_list = list()\n",
    "    nlabels, labels, stats, centroids = cv2.connectedComponentsWithStats(src_bin)\n",
    "    dst = cv2.cvtColor(img_ROI, cv2.COLOR_GRAY2BGR)\n",
    "    alpha = 3\n",
    "    SIZE = 64\n",
    "    for i in range(1,nlabels):\n",
    "        stat = stats[i]\n",
    "        x = stat[0] - alpha\n",
    "        y = stat[1] - alpha\n",
    "        width = stat[2] + 2*alpha\n",
    "        height = stat[3] + 2*alpha\n",
    "        n_pixel = stat[4]\n",
    "\n",
    "        \n",
    "        # 최대 픽셀 지정해서 임계값보다 크면 패스해버리기\n",
    "        if n_pixel < 500 or width > 64 or height > 64 : continue\n",
    "        \n",
    "        cv2.rectangle(dst, (x, y), (x+width, y+height), (0,100,255))\n",
    "        \n",
    "        \n",
    "        delta_x = int((SIZE - width) / 2)\n",
    "        delta_y = int((SIZE - height) / 2)\n",
    "        \n",
    "        tmp1 = img_color_ROI[y : y+height, x : x+width, :].copy()\n",
    "        tmp2 = np.zeros((64,64,3), dtype = int)\n",
    "        \n",
    "        # print(stat) # 가장자리쪽에 있는 생두들은 ROI를 벗어나는것들이 있다.\n",
    "        try:\n",
    "            for i in range(3):\n",
    "                tmp2[delta_y : delta_y + height, delta_x : delta_x + width , i] = tmp1[0:height, 0:width, i]\n",
    "                \n",
    "        except:\n",
    "            print('Error! Go to home!')\n",
    "        \n",
    "        img_list.append(tmp2)\n",
    "    return img_list"
   ]
  },
  {
   "cell_type": "code",
   "execution_count": 12,
   "metadata": {},
   "outputs": [
    {
     "output_type": "stream",
     "name": "stdout",
     "text": "Error! Go to home!\nError! Go to home!\nError! Go to home!\nError! Go to home!\n"
    },
    {
     "output_type": "execute_result",
     "data": {
      "text/plain": "<matplotlib.image.AxesImage at 0x12667d910>"
     },
     "metadata": {},
     "execution_count": 12
    },
    {
     "output_type": "display_data",
     "data": {
      "text/plain": "<Figure size 432x288 with 1 Axes>",
      "image/svg+xml": "<?xml version=\"1.0\" encoding=\"utf-8\" standalone=\"no\"?>\n<!DOCTYPE svg PUBLIC \"-//W3C//DTD SVG 1.1//EN\"\n  \"http://www.w3.org/Graphics/SVG/1.1/DTD/svg11.dtd\">\n<!-- Created with matplotlib (https://matplotlib.org/) -->\n<svg height=\"250.618594pt\" version=\"1.1\" viewBox=\"0 0 251.565 250.618594\" width=\"251.565pt\" xmlns=\"http://www.w3.org/2000/svg\" xmlns:xlink=\"http://www.w3.org/1999/xlink\">\n <defs>\n  <style type=\"text/css\">\n*{stroke-linecap:butt;stroke-linejoin:round;}\n  </style>\n </defs>\n <g id=\"figure_1\">\n  <g id=\"patch_1\">\n   <path d=\"M 0 250.618594 \nL 251.565 250.618594 \nL 251.565 0 \nL 0 0 \nz\n\" style=\"fill:none;\"/>\n  </g>\n  <g id=\"axes_1\">\n   <g id=\"patch_2\">\n    <path d=\"M 26.925 226.740469 \nL 244.365 226.740469 \nL 244.365 9.300469 \nL 26.925 9.300469 \nz\n\" style=\"fill:#ffffff;\"/>\n   </g>\n   <g clip-path=\"url(#p7c604b71e8)\">\n    <image height=\"218\" id=\"image499e52aa86\" transform=\"scale(1 -1)translate(0 -218)\" width=\"218\" x=\"26.925\" xlink:href=\"data:image/png;base64,\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\" y=\"-8.740469\"/>\n   </g>\n   <g id=\"matplotlib.axis_1\">\n    <g id=\"xtick_1\">\n     <g id=\"line2d_1\">\n      <defs>\n       <path d=\"M 0 0 \nL 0 3.5 \n\" id=\"m6c6cc71ef4\" style=\"stroke:#000000;stroke-width:0.8;\"/>\n      </defs>\n      <g>\n       <use style=\"stroke:#000000;stroke-width:0.8;\" x=\"28.62375\" xlink:href=\"#m6c6cc71ef4\" y=\"226.740469\"/>\n      </g>\n     </g>\n     <g id=\"text_1\">\n      <!-- 0 -->\n      <defs>\n       <path d=\"M 31.78125 66.40625 \nQ 24.171875 66.40625 20.328125 58.90625 \nQ 16.5 51.421875 16.5 36.375 \nQ 16.5 21.390625 20.328125 13.890625 \nQ 24.171875 6.390625 31.78125 6.390625 \nQ 39.453125 6.390625 43.28125 13.890625 \nQ 47.125 21.390625 47.125 36.375 \nQ 47.125 51.421875 43.28125 58.90625 \nQ 39.453125 66.40625 31.78125 66.40625 \nz\nM 31.78125 74.21875 \nQ 44.046875 74.21875 50.515625 64.515625 \nQ 56.984375 54.828125 56.984375 36.375 \nQ 56.984375 17.96875 50.515625 8.265625 \nQ 44.046875 -1.421875 31.78125 -1.421875 \nQ 19.53125 -1.421875 13.0625 8.265625 \nQ 6.59375 17.96875 6.59375 36.375 \nQ 6.59375 54.828125 13.0625 64.515625 \nQ 19.53125 74.21875 31.78125 74.21875 \nz\n\" id=\"DejaVuSans-48\"/>\n      </defs>\n      <g transform=\"translate(25.4425 241.338906)scale(0.1 -0.1)\">\n       <use xlink:href=\"#DejaVuSans-48\"/>\n      </g>\n     </g>\n    </g>\n    <g id=\"xtick_2\">\n     <g id=\"line2d_2\">\n      <g>\n       <use style=\"stroke:#000000;stroke-width:0.8;\" x=\"62.59875\" xlink:href=\"#m6c6cc71ef4\" y=\"226.740469\"/>\n      </g>\n     </g>\n     <g id=\"text_2\">\n      <!-- 10 -->\n      <defs>\n       <path d=\"M 12.40625 8.296875 \nL 28.515625 8.296875 \nL 28.515625 63.921875 \nL 10.984375 60.40625 \nL 10.984375 69.390625 \nL 28.421875 72.90625 \nL 38.28125 72.90625 \nL 38.28125 8.296875 \nL 54.390625 8.296875 \nL 54.390625 0 \nL 12.40625 0 \nz\n\" id=\"DejaVuSans-49\"/>\n      </defs>\n      <g transform=\"translate(56.23625 241.338906)scale(0.1 -0.1)\">\n       <use xlink:href=\"#DejaVuSans-49\"/>\n       <use x=\"63.623047\" xlink:href=\"#DejaVuSans-48\"/>\n      </g>\n     </g>\n    </g>\n    <g id=\"xtick_3\">\n     <g id=\"line2d_3\">\n      <g>\n       <use style=\"stroke:#000000;stroke-width:0.8;\" x=\"96.57375\" xlink:href=\"#m6c6cc71ef4\" y=\"226.740469\"/>\n      </g>\n     </g>\n     <g id=\"text_3\">\n      <!-- 20 -->\n      <defs>\n       <path d=\"M 19.1875 8.296875 \nL 53.609375 8.296875 \nL 53.609375 0 \nL 7.328125 0 \nL 7.328125 8.296875 \nQ 12.9375 14.109375 22.625 23.890625 \nQ 32.328125 33.6875 34.8125 36.53125 \nQ 39.546875 41.84375 41.421875 45.53125 \nQ 43.3125 49.21875 43.3125 52.78125 \nQ 43.3125 58.59375 39.234375 62.25 \nQ 35.15625 65.921875 28.609375 65.921875 \nQ 23.96875 65.921875 18.8125 64.3125 \nQ 13.671875 62.703125 7.8125 59.421875 \nL 7.8125 69.390625 \nQ 13.765625 71.78125 18.9375 73 \nQ 24.125 74.21875 28.421875 74.21875 \nQ 39.75 74.21875 46.484375 68.546875 \nQ 53.21875 62.890625 53.21875 53.421875 \nQ 53.21875 48.921875 51.53125 44.890625 \nQ 49.859375 40.875 45.40625 35.40625 \nQ 44.1875 33.984375 37.640625 27.21875 \nQ 31.109375 20.453125 19.1875 8.296875 \nz\n\" id=\"DejaVuSans-50\"/>\n      </defs>\n      <g transform=\"translate(90.21125 241.338906)scale(0.1 -0.1)\">\n       <use xlink:href=\"#DejaVuSans-50\"/>\n       <use x=\"63.623047\" xlink:href=\"#DejaVuSans-48\"/>\n      </g>\n     </g>\n    </g>\n    <g id=\"xtick_4\">\n     <g id=\"line2d_4\">\n      <g>\n       <use style=\"stroke:#000000;stroke-width:0.8;\" x=\"130.54875\" xlink:href=\"#m6c6cc71ef4\" y=\"226.740469\"/>\n      </g>\n     </g>\n     <g id=\"text_4\">\n      <!-- 30 -->\n      <defs>\n       <path d=\"M 40.578125 39.3125 \nQ 47.65625 37.796875 51.625 33 \nQ 55.609375 28.21875 55.609375 21.1875 \nQ 55.609375 10.40625 48.1875 4.484375 \nQ 40.765625 -1.421875 27.09375 -1.421875 \nQ 22.515625 -1.421875 17.65625 -0.515625 \nQ 12.796875 0.390625 7.625 2.203125 \nL 7.625 11.71875 \nQ 11.71875 9.328125 16.59375 8.109375 \nQ 21.484375 6.890625 26.8125 6.890625 \nQ 36.078125 6.890625 40.9375 10.546875 \nQ 45.796875 14.203125 45.796875 21.1875 \nQ 45.796875 27.640625 41.28125 31.265625 \nQ 36.765625 34.90625 28.71875 34.90625 \nL 20.21875 34.90625 \nL 20.21875 43.015625 \nL 29.109375 43.015625 \nQ 36.375 43.015625 40.234375 45.921875 \nQ 44.09375 48.828125 44.09375 54.296875 \nQ 44.09375 59.90625 40.109375 62.90625 \nQ 36.140625 65.921875 28.71875 65.921875 \nQ 24.65625 65.921875 20.015625 65.03125 \nQ 15.375 64.15625 9.8125 62.3125 \nL 9.8125 71.09375 \nQ 15.4375 72.65625 20.34375 73.4375 \nQ 25.25 74.21875 29.59375 74.21875 \nQ 40.828125 74.21875 47.359375 69.109375 \nQ 53.90625 64.015625 53.90625 55.328125 \nQ 53.90625 49.265625 50.4375 45.09375 \nQ 46.96875 40.921875 40.578125 39.3125 \nz\n\" id=\"DejaVuSans-51\"/>\n      </defs>\n      <g transform=\"translate(124.18625 241.338906)scale(0.1 -0.1)\">\n       <use xlink:href=\"#DejaVuSans-51\"/>\n       <use x=\"63.623047\" xlink:href=\"#DejaVuSans-48\"/>\n      </g>\n     </g>\n    </g>\n    <g id=\"xtick_5\">\n     <g id=\"line2d_5\">\n      <g>\n       <use style=\"stroke:#000000;stroke-width:0.8;\" x=\"164.52375\" xlink:href=\"#m6c6cc71ef4\" y=\"226.740469\"/>\n      </g>\n     </g>\n     <g id=\"text_5\">\n      <!-- 40 -->\n      <defs>\n       <path d=\"M 37.796875 64.3125 \nL 12.890625 25.390625 \nL 37.796875 25.390625 \nz\nM 35.203125 72.90625 \nL 47.609375 72.90625 \nL 47.609375 25.390625 \nL 58.015625 25.390625 \nL 58.015625 17.1875 \nL 47.609375 17.1875 \nL 47.609375 0 \nL 37.796875 0 \nL 37.796875 17.1875 \nL 4.890625 17.1875 \nL 4.890625 26.703125 \nz\n\" id=\"DejaVuSans-52\"/>\n      </defs>\n      <g transform=\"translate(158.16125 241.338906)scale(0.1 -0.1)\">\n       <use xlink:href=\"#DejaVuSans-52\"/>\n       <use x=\"63.623047\" xlink:href=\"#DejaVuSans-48\"/>\n      </g>\n     </g>\n    </g>\n    <g id=\"xtick_6\">\n     <g id=\"line2d_6\">\n      <g>\n       <use style=\"stroke:#000000;stroke-width:0.8;\" x=\"198.49875\" xlink:href=\"#m6c6cc71ef4\" y=\"226.740469\"/>\n      </g>\n     </g>\n     <g id=\"text_6\">\n      <!-- 50 -->\n      <defs>\n       <path d=\"M 10.796875 72.90625 \nL 49.515625 72.90625 \nL 49.515625 64.59375 \nL 19.828125 64.59375 \nL 19.828125 46.734375 \nQ 21.96875 47.46875 24.109375 47.828125 \nQ 26.265625 48.1875 28.421875 48.1875 \nQ 40.625 48.1875 47.75 41.5 \nQ 54.890625 34.8125 54.890625 23.390625 \nQ 54.890625 11.625 47.5625 5.09375 \nQ 40.234375 -1.421875 26.90625 -1.421875 \nQ 22.3125 -1.421875 17.546875 -0.640625 \nQ 12.796875 0.140625 7.71875 1.703125 \nL 7.71875 11.625 \nQ 12.109375 9.234375 16.796875 8.0625 \nQ 21.484375 6.890625 26.703125 6.890625 \nQ 35.15625 6.890625 40.078125 11.328125 \nQ 45.015625 15.765625 45.015625 23.390625 \nQ 45.015625 31 40.078125 35.4375 \nQ 35.15625 39.890625 26.703125 39.890625 \nQ 22.75 39.890625 18.8125 39.015625 \nQ 14.890625 38.140625 10.796875 36.28125 \nz\n\" id=\"DejaVuSans-53\"/>\n      </defs>\n      <g transform=\"translate(192.13625 241.338906)scale(0.1 -0.1)\">\n       <use xlink:href=\"#DejaVuSans-53\"/>\n       <use x=\"63.623047\" xlink:href=\"#DejaVuSans-48\"/>\n      </g>\n     </g>\n    </g>\n    <g id=\"xtick_7\">\n     <g id=\"line2d_7\">\n      <g>\n       <use style=\"stroke:#000000;stroke-width:0.8;\" x=\"232.47375\" xlink:href=\"#m6c6cc71ef4\" y=\"226.740469\"/>\n      </g>\n     </g>\n     <g id=\"text_7\">\n      <!-- 60 -->\n      <defs>\n       <path d=\"M 33.015625 40.375 \nQ 26.375 40.375 22.484375 35.828125 \nQ 18.609375 31.296875 18.609375 23.390625 \nQ 18.609375 15.53125 22.484375 10.953125 \nQ 26.375 6.390625 33.015625 6.390625 \nQ 39.65625 6.390625 43.53125 10.953125 \nQ 47.40625 15.53125 47.40625 23.390625 \nQ 47.40625 31.296875 43.53125 35.828125 \nQ 39.65625 40.375 33.015625 40.375 \nz\nM 52.59375 71.296875 \nL 52.59375 62.3125 \nQ 48.875 64.0625 45.09375 64.984375 \nQ 41.3125 65.921875 37.59375 65.921875 \nQ 27.828125 65.921875 22.671875 59.328125 \nQ 17.53125 52.734375 16.796875 39.40625 \nQ 19.671875 43.65625 24.015625 45.921875 \nQ 28.375 48.1875 33.59375 48.1875 \nQ 44.578125 48.1875 50.953125 41.515625 \nQ 57.328125 34.859375 57.328125 23.390625 \nQ 57.328125 12.15625 50.6875 5.359375 \nQ 44.046875 -1.421875 33.015625 -1.421875 \nQ 20.359375 -1.421875 13.671875 8.265625 \nQ 6.984375 17.96875 6.984375 36.375 \nQ 6.984375 53.65625 15.1875 63.9375 \nQ 23.390625 74.21875 37.203125 74.21875 \nQ 40.921875 74.21875 44.703125 73.484375 \nQ 48.484375 72.75 52.59375 71.296875 \nz\n\" id=\"DejaVuSans-54\"/>\n      </defs>\n      <g transform=\"translate(226.11125 241.338906)scale(0.1 -0.1)\">\n       <use xlink:href=\"#DejaVuSans-54\"/>\n       <use x=\"63.623047\" xlink:href=\"#DejaVuSans-48\"/>\n      </g>\n     </g>\n    </g>\n   </g>\n   <g id=\"matplotlib.axis_2\">\n    <g id=\"ytick_1\">\n     <g id=\"line2d_8\">\n      <defs>\n       <path d=\"M 0 0 \nL -3.5 0 \n\" id=\"m15ddbbab68\" style=\"stroke:#000000;stroke-width:0.8;\"/>\n      </defs>\n      <g>\n       <use style=\"stroke:#000000;stroke-width:0.8;\" x=\"26.925\" xlink:href=\"#m15ddbbab68\" y=\"10.999219\"/>\n      </g>\n     </g>\n     <g id=\"text_8\">\n      <!-- 0 -->\n      <g transform=\"translate(13.5625 14.798437)scale(0.1 -0.1)\">\n       <use xlink:href=\"#DejaVuSans-48\"/>\n      </g>\n     </g>\n    </g>\n    <g id=\"ytick_2\">\n     <g id=\"line2d_9\">\n      <g>\n       <use style=\"stroke:#000000;stroke-width:0.8;\" x=\"26.925\" xlink:href=\"#m15ddbbab68\" y=\"44.974219\"/>\n      </g>\n     </g>\n     <g id=\"text_9\">\n      <!-- 10 -->\n      <g transform=\"translate(7.2 48.773437)scale(0.1 -0.1)\">\n       <use xlink:href=\"#DejaVuSans-49\"/>\n       <use x=\"63.623047\" xlink:href=\"#DejaVuSans-48\"/>\n      </g>\n     </g>\n    </g>\n    <g id=\"ytick_3\">\n     <g id=\"line2d_10\">\n      <g>\n       <use style=\"stroke:#000000;stroke-width:0.8;\" x=\"26.925\" xlink:href=\"#m15ddbbab68\" y=\"78.949219\"/>\n      </g>\n     </g>\n     <g id=\"text_10\">\n      <!-- 20 -->\n      <g transform=\"translate(7.2 82.748437)scale(0.1 -0.1)\">\n       <use xlink:href=\"#DejaVuSans-50\"/>\n       <use x=\"63.623047\" xlink:href=\"#DejaVuSans-48\"/>\n      </g>\n     </g>\n    </g>\n    <g id=\"ytick_4\">\n     <g id=\"line2d_11\">\n      <g>\n       <use style=\"stroke:#000000;stroke-width:0.8;\" x=\"26.925\" xlink:href=\"#m15ddbbab68\" y=\"112.924219\"/>\n      </g>\n     </g>\n     <g id=\"text_11\">\n      <!-- 30 -->\n      <g transform=\"translate(7.2 116.723437)scale(0.1 -0.1)\">\n       <use xlink:href=\"#DejaVuSans-51\"/>\n       <use x=\"63.623047\" xlink:href=\"#DejaVuSans-48\"/>\n      </g>\n     </g>\n    </g>\n    <g id=\"ytick_5\">\n     <g id=\"line2d_12\">\n      <g>\n       <use style=\"stroke:#000000;stroke-width:0.8;\" x=\"26.925\" xlink:href=\"#m15ddbbab68\" y=\"146.899219\"/>\n      </g>\n     </g>\n     <g id=\"text_12\">\n      <!-- 40 -->\n      <g transform=\"translate(7.2 150.698437)scale(0.1 -0.1)\">\n       <use xlink:href=\"#DejaVuSans-52\"/>\n       <use x=\"63.623047\" xlink:href=\"#DejaVuSans-48\"/>\n      </g>\n     </g>\n    </g>\n    <g id=\"ytick_6\">\n     <g id=\"line2d_13\">\n      <g>\n       <use style=\"stroke:#000000;stroke-width:0.8;\" x=\"26.925\" xlink:href=\"#m15ddbbab68\" y=\"180.874219\"/>\n      </g>\n     </g>\n     <g id=\"text_13\">\n      <!-- 50 -->\n      <g transform=\"translate(7.2 184.673437)scale(0.1 -0.1)\">\n       <use xlink:href=\"#DejaVuSans-53\"/>\n       <use x=\"63.623047\" xlink:href=\"#DejaVuSans-48\"/>\n      </g>\n     </g>\n    </g>\n    <g id=\"ytick_7\">\n     <g id=\"line2d_14\">\n      <g>\n       <use style=\"stroke:#000000;stroke-width:0.8;\" x=\"26.925\" xlink:href=\"#m15ddbbab68\" y=\"214.849219\"/>\n      </g>\n     </g>\n     <g id=\"text_14\">\n      <!-- 60 -->\n      <g transform=\"translate(7.2 218.648437)scale(0.1 -0.1)\">\n       <use xlink:href=\"#DejaVuSans-54\"/>\n       <use x=\"63.623047\" xlink:href=\"#DejaVuSans-48\"/>\n      </g>\n     </g>\n    </g>\n   </g>\n   <g id=\"patch_3\">\n    <path d=\"M 26.925 226.740469 \nL 26.925 9.300469 \n\" style=\"fill:none;stroke:#000000;stroke-linecap:square;stroke-linejoin:miter;stroke-width:0.8;\"/>\n   </g>\n   <g id=\"patch_4\">\n    <path d=\"M 244.365 226.740469 \nL 244.365 9.300469 \n\" style=\"fill:none;stroke:#000000;stroke-linecap:square;stroke-linejoin:miter;stroke-width:0.8;\"/>\n   </g>\n   <g id=\"patch_5\">\n    <path d=\"M 26.925 226.740469 \nL 244.365 226.740469 \n\" style=\"fill:none;stroke:#000000;stroke-linecap:square;stroke-linejoin:miter;stroke-width:0.8;\"/>\n   </g>\n   <g id=\"patch_6\">\n    <path d=\"M 26.925 9.300469 \nL 244.365 9.300469 \n\" style=\"fill:none;stroke:#000000;stroke-linecap:square;stroke-linejoin:miter;stroke-width:0.8;\"/>\n   </g>\n  </g>\n </g>\n <defs>\n  <clipPath id=\"p7c604b71e8\">\n   <rect height=\"217.44\" width=\"217.44\" x=\"26.925\" y=\"9.300469\"/>\n  </clipPath>\n </defs>\n</svg>\n",
      "image/png": "[encoded data removed]"
     },
     "metadata": {
      "needs_background": "light"
     }
    }
   ],
   "source": [
    "plt.imshow(multi_objectDetection(img)[6])"
   ]
  },
  {
   "cell_type": "code",
   "execution_count": 14,
   "metadata": {},
   "outputs": [
    {
     "output_type": "stream",
     "name": "stdout",
     "text": "Error! Go to home!\nError! Go to home!\nError! Go to home!\nError! Go to home!\n"
    },
    {
     "output_type": "execute_result",
     "data": {
      "text/plain": "(64, 64, 3)"
     },
     "metadata": {},
     "execution_count": 14
    }
   ],
   "source": [
    "multi_objectDetection(img)[6].shape"
   ]
  },
  {
   "cell_type": "code",
   "execution_count": 17,
   "metadata": {},
   "outputs": [],
   "source": [
    "def imgPreprocessing(img, thres):\n",
    "    ############################################################################\n",
    "    # <이미지 노이즈 및 배경 제거>\n",
    "\n",
    "    # 그레이 스케일로 변환\n",
    "    gray = cv2.cvtColor(src, cv2.COLOR_RGB2GRAY)\n",
    "    \n",
    "    # 데이터형 변환\n",
    "    # img_tensor = torch.LongTensor(np.array(img))\n",
    "\n",
    "    # 바이너리로 변환\n",
    "    ret, binary = cv2.threshold(gray,thres,255, cv2.THRESH_BINARY)\n",
    "    binary = cv2.bitwise_not(binary)\n",
    "\n",
    "    # 바이너리 이미지와 원본 이미지의 데이터가 일치하는 부분 만 다시 추출히기\n",
    "    # tmp = np.zeros_like(src)\n",
    "    # for i in range(3):\n",
    "    #     tmp[:,:,i] = (src[:,:,i] * binary)\n",
    "\n",
    "    tmp = np.zeros_like(img)\n",
    "    for y in range(64):\n",
    "        for x in range(64):\n",
    "            if (binary != 0)[y,x]:\n",
    "                for i in range(3):\n",
    "                    tmp[y,x,i] = src[y,x,i]\n",
    "    \n",
    "    src_processed = tmp\n",
    "\n",
    "    # ax1 = fig.add_subplot(1,3,1)\n",
    "    # ax1.imshow(src_processed)\n",
    "    \n",
    "\n",
    "    height = src_processed.shape[0]\n",
    "    width = src_processed.shape[1]\n",
    "\n",
    "    ############################################################################\n",
    "    # <생두 무게 중심 구하기>\n",
    "    R = list()\n",
    "    for y in range(height):\n",
    "        for x in range(width):\n",
    "            if binary[y,x]:            \n",
    "                R.append([x, y])\n",
    "\n",
    "    # 질량의 합\n",
    "    M = len(R)\n",
    "\n",
    "    # 질량중심 벡터는 이미지를 기준으로 (x,y)\n",
    "    R = np.array(R)\n",
    "    R_x = R[:,0]\n",
    "    R_y = R[:,1]\n",
    "\n",
    "    R_x_sum = R_x.sum()\n",
    "    R_y_sum = R_y.sum()\n",
    "\n",
    "    center = np.round(R_x_sum/M).real , (np.round(R_y_sum/M)).real\n",
    "\n",
    "    height_center = center[1]\n",
    "    width_center = center[0]\n",
    "\n",
    "    # print('center:', height_center, width_center)\n",
    "\n",
    " \n",
    "    ############################################################################\n",
    "    # <객체 외부의 노이즈 데이터 처리하기>\n",
    "\n",
    "    # 바이너리의 윤곽선 추출\n",
    "    _, contours, hierachy = cv2.findContours(binary, cv2.RETR_CCOMP, cv2.CHAIN_APPROX_NONE)    \n",
    "\n",
    "    # 생두 객체 윤곽과 윤곽벡터 구하기\n",
    "    contours_leng = [len(i) for i in contours if len(i) != 252]\n",
    "    # print('contours_leng: ', contours_leng)\n",
    "    max = np.array(contours_leng).max()\n",
    "    # print('max: ', max)\n",
    "    contour_vector = list()\n",
    "    for i in contours:\n",
    "        if len(i) == max:\n",
    "            # print(i)\n",
    "            for point in i:\n",
    "                contour_vector.append((point[0][1]-height_center, point[0][0]-width_center))\n",
    "            \n",
    "            # 윤곽 벡터 사이즈와 최대 사이즈 구하기\n",
    "            vector_size = np.sqrt(np.array(contour_vector)[:,0]**2 + np.array(contour_vector)[:,1]**2 )\n",
    "            max_size = vector_size.max()\n",
    "    # print('max_size: ', max_size)\n",
    "\n",
    "    # 질량 벡터와 윤곽벡터를 비교하는 코드 짜기\n",
    "    R_size = np.sqrt((R[:,0] - width_center) ** 2 + (R[:,1] - height_center) ** 2)\n",
    "    R_total = np.hstack([R,R_size.reshape((R_size.shape[0],1))])\n",
    "\n",
    "    # print('R_size_max: ', R_size.max())\n",
    "    # max_size 보다 큰 R 좌표들만 추출하기\n",
    "    R_filtered = R_total[R_total[:,2] > max_size]\n",
    "\n",
    "\n",
    "    # R_filtered의 좌표를 이용해서 노이즈 처리\n",
    "    for i in R_filtered[:,:2]:\n",
    "        # print(i[0].real, -i[1].imag)\n",
    "        src_processed[int(i[1]),int(i[0])] = 0\n",
    "\n",
    "    # ax2 = fig.add_subplot(1,3,2)\n",
    "    # ax2.imshow(binary)\n",
    "    # ax3 = fig.add_subplot(1,3,3)\n",
    "    # ax3.imshow(src_processed)\n",
    "\n",
    "\n",
    "    ############################################################################\n",
    "    # <이미지의 중심과 생두의 무게중심 일치시키기>\n",
    "    \n",
    "    # 1. 이미지 센터 좌표를 구한다 \n",
    "    src_center = np.array([src_processed.shape[1] / 2, src_processed.shape[0] / 2]) # (x, y)\n",
    "\n",
    "    # 2. 객체의 중심을 구한다\n",
    "    object_center = np.array([height_center, width_center]) # (x, y)\n",
    "\n",
    "    # 3. 이미지 중심과 객체의 중심의 차이를 구한다\n",
    "    delta = object_center - src_center # (x, y)\n",
    "\n",
    "    # 4. 이미지 이동\n",
    "    height, width = src_processed.shape[:2]\n",
    "    M = np.float32([[1, 0, -delta[1]], [0, 1, -delta[0]]]) # 이미지를 width 방향으로 delta[0]만큼 , hiehgt 방향으로 -delta[1]만큼\n",
    "    img_translation = cv2.warpAffine(src_processed, M, (width,height))\n",
    "\n",
    "    return img, binary, src_processed, img_translation"
   ]
  },
  {
   "cell_type": "code",
   "execution_count": 19,
   "metadata": {},
   "outputs": [
    {
     "output_type": "error",
     "ename": "TypeError",
     "evalue": "imgPreprocessing() missing 1 required positional argument: 'thres'",
     "traceback": [
      "\u001b[0;31m---------------------------------------------------------------------------\u001b[0m",
      "\u001b[0;31mTypeError\u001b[0m                                 Traceback (most recent call last)",
      "\u001b[0;32m<ipython-input-19-e36e2df26930>\u001b[0m in \u001b[0;36m<module>\u001b[0;34m\u001b[0m\n\u001b[0;32m----> 1\u001b[0;31m \u001b[0mimgPreprocessing\u001b[0m\u001b[0;34m(\u001b[0m\u001b[0mimg\u001b[0m\u001b[0;34m)\u001b[0m\u001b[0;34m[\u001b[0m\u001b[0;36m6\u001b[0m\u001b[0;34m]\u001b[0m\u001b[0;34m.\u001b[0m\u001b[0mshape\u001b[0m\u001b[0;34m\u001b[0m\u001b[0;34m\u001b[0m\u001b[0m\n\u001b[0m",
      "\u001b[0;31mTypeError\u001b[0m: imgPreprocessing() missing 1 required positional argument: 'thres'"
     ]
    }
   ],
   "source": [
    "imgPreprocessing(img)[6].shape"
   ]
  },
  {
   "cell_type": "code",
   "execution_count": null,
   "metadata": {},
   "outputs": [],
   "source": []
  }
 ],
 "metadata": {
  "language_info": {
   "codemirror_mode": {
    "name": "ipython",
    "version": 3
   },
   "file_extension": ".py",
   "mimetype": "text/x-python",
   "name": "python",
   "nbconvert_exporter": "python",
   "pygments_lexer": "ipython3",
   "version": "3.7.7-final"
  },
  "orig_nbformat": 2,
  "kernelspec": {
   "name": "python37764bitprojectopencvconda2dc1dc3001714ef7b7fe5dace03c0ffc",
   "display_name": "Python 3.7.7 64-bit ('project_opencv': conda)"
  }
 },
 "nbformat": 4,
 "nbformat_minor": 2
}